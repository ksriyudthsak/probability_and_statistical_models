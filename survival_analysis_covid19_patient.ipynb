{
  "nbformat": 4,
  "nbformat_minor": 0,
  "metadata": {
    "colab": {
      "name": "survival_analysis_patient.ipynb",
      "provenance": [],
      "collapsed_sections": []
    },
    "kernelspec": {
      "name": "python3",
      "display_name": "Python 3"
    }
  },
  "cells": [
    {
      "cell_type": "markdown",
      "metadata": {
        "id": "Vpf-tgULlAjv"
      },
      "source": [
        "# Preperation"
      ]
    },
    {
      "cell_type": "markdown",
      "metadata": {
        "id": "0qH0KpD6WPgS"
      },
      "source": [
        "download covid19 data from Kaggle dataset：https://www.kaggle.com/kimjihoo/coronavirusdataset/download"
      ]
    },
    {
      "cell_type": "code",
      "metadata": {
        "id": "1H7iW4Q9rG6X",
        "outputId": "84d18db9-e91f-4791-800b-7220359c8ea0",
        "colab": {
          "base_uri": "https://localhost:8080/",
          "height": 989
        }
      },
      "source": [
        "# install modules\n",
        "# https://causalinferenceinpython.org/\n",
        "# !pip install causalgraphicalmodels\n",
        "# https://pypi.org/project/CausalInference/\n",
        "# !pip install causalinference\n",
        "!pip install --upgrade pymc3\n",
        "!pip install arviz\n",
        "!pip install lifelines"
      ],
      "execution_count": 1,
      "outputs": [
        {
          "output_type": "stream",
          "text": [
            "Requirement already up-to-date: pymc3 in /usr/local/lib/python3.6/dist-packages (3.9.3)\n",
            "Requirement already satisfied, skipping upgrade: contextvars; python_version < \"3.7\" in /usr/local/lib/python3.6/dist-packages (from pymc3) (2.4)\n",
            "Requirement already satisfied, skipping upgrade: numpy>=1.13.0 in /usr/local/lib/python3.6/dist-packages (from pymc3) (1.18.5)\n",
            "Requirement already satisfied, skipping upgrade: arviz>=0.9.0 in /usr/local/lib/python3.6/dist-packages (from pymc3) (0.10.0)\n",
            "Requirement already satisfied, skipping upgrade: theano>=1.0.5 in /usr/local/lib/python3.6/dist-packages (from pymc3) (1.0.5)\n",
            "Requirement already satisfied, skipping upgrade: fastprogress>=0.2.0 in /usr/local/lib/python3.6/dist-packages (from pymc3) (1.0.0)\n",
            "Requirement already satisfied, skipping upgrade: patsy>=0.5.1 in /usr/local/lib/python3.6/dist-packages (from pymc3) (0.5.1)\n",
            "Requirement already satisfied, skipping upgrade: dataclasses; python_version < \"3.7\" in /usr/local/lib/python3.6/dist-packages (from pymc3) (0.7)\n",
            "Requirement already satisfied, skipping upgrade: typing-extensions>=3.7.4 in /usr/local/lib/python3.6/dist-packages (from pymc3) (3.7.4.3)\n",
            "Requirement already satisfied, skipping upgrade: pandas>=0.18.0 in /usr/local/lib/python3.6/dist-packages (from pymc3) (1.1.2)\n",
            "Requirement already satisfied, skipping upgrade: scipy>=0.18.1 in /usr/local/lib/python3.6/dist-packages (from pymc3) (1.4.1)\n",
            "Requirement already satisfied, skipping upgrade: h5py>=2.7.0 in /usr/local/lib/python3.6/dist-packages (from pymc3) (2.10.0)\n",
            "Requirement already satisfied, skipping upgrade: immutables>=0.9 in /usr/local/lib/python3.6/dist-packages (from contextvars; python_version < \"3.7\"->pymc3) (0.14)\n",
            "Requirement already satisfied, skipping upgrade: netcdf4 in /usr/local/lib/python3.6/dist-packages (from arviz>=0.9.0->pymc3) (1.5.4)\n",
            "Requirement already satisfied, skipping upgrade: packaging in /usr/local/lib/python3.6/dist-packages (from arviz>=0.9.0->pymc3) (20.4)\n",
            "Requirement already satisfied, skipping upgrade: xarray>=0.16.1 in /usr/local/lib/python3.6/dist-packages (from arviz>=0.9.0->pymc3) (0.16.1)\n",
            "Requirement already satisfied, skipping upgrade: matplotlib>=3.0 in /usr/local/lib/python3.6/dist-packages (from arviz>=0.9.0->pymc3) (3.2.2)\n",
            "Requirement already satisfied, skipping upgrade: setuptools>=38.4 in /usr/local/lib/python3.6/dist-packages (from arviz>=0.9.0->pymc3) (50.3.0)\n",
            "Requirement already satisfied, skipping upgrade: six>=1.9.0 in /usr/local/lib/python3.6/dist-packages (from theano>=1.0.5->pymc3) (1.15.0)\n",
            "Requirement already satisfied, skipping upgrade: python-dateutil>=2.7.3 in /usr/local/lib/python3.6/dist-packages (from pandas>=0.18.0->pymc3) (2.8.1)\n",
            "Requirement already satisfied, skipping upgrade: pytz>=2017.2 in /usr/local/lib/python3.6/dist-packages (from pandas>=0.18.0->pymc3) (2018.9)\n",
            "Requirement already satisfied, skipping upgrade: cftime in /usr/local/lib/python3.6/dist-packages (from netcdf4->arviz>=0.9.0->pymc3) (1.2.1)\n",
            "Requirement already satisfied, skipping upgrade: pyparsing>=2.0.2 in /usr/local/lib/python3.6/dist-packages (from packaging->arviz>=0.9.0->pymc3) (2.4.7)\n",
            "Requirement already satisfied, skipping upgrade: kiwisolver>=1.0.1 in /usr/local/lib/python3.6/dist-packages (from matplotlib>=3.0->arviz>=0.9.0->pymc3) (1.2.0)\n",
            "Requirement already satisfied, skipping upgrade: cycler>=0.10 in /usr/local/lib/python3.6/dist-packages (from matplotlib>=3.0->arviz>=0.9.0->pymc3) (0.10.0)\n",
            "Requirement already satisfied: arviz in /usr/local/lib/python3.6/dist-packages (0.10.0)\n",
            "Requirement already satisfied: netcdf4 in /usr/local/lib/python3.6/dist-packages (from arviz) (1.5.4)\n",
            "Requirement already satisfied: matplotlib>=3.0 in /usr/local/lib/python3.6/dist-packages (from arviz) (3.2.2)\n",
            "Requirement already satisfied: pandas>=0.23 in /usr/local/lib/python3.6/dist-packages (from arviz) (1.1.2)\n",
            "Requirement already satisfied: xarray>=0.16.1 in /usr/local/lib/python3.6/dist-packages (from arviz) (0.16.1)\n",
            "Requirement already satisfied: setuptools>=38.4 in /usr/local/lib/python3.6/dist-packages (from arviz) (50.3.0)\n",
            "Requirement already satisfied: numpy>=1.12 in /usr/local/lib/python3.6/dist-packages (from arviz) (1.18.5)\n",
            "Requirement already satisfied: scipy>=0.19 in /usr/local/lib/python3.6/dist-packages (from arviz) (1.4.1)\n",
            "Requirement already satisfied: packaging in /usr/local/lib/python3.6/dist-packages (from arviz) (20.4)\n",
            "Requirement already satisfied: cftime in /usr/local/lib/python3.6/dist-packages (from netcdf4->arviz) (1.2.1)\n",
            "Requirement already satisfied: kiwisolver>=1.0.1 in /usr/local/lib/python3.6/dist-packages (from matplotlib>=3.0->arviz) (1.2.0)\n",
            "Requirement already satisfied: cycler>=0.10 in /usr/local/lib/python3.6/dist-packages (from matplotlib>=3.0->arviz) (0.10.0)\n",
            "Requirement already satisfied: python-dateutil>=2.1 in /usr/local/lib/python3.6/dist-packages (from matplotlib>=3.0->arviz) (2.8.1)\n",
            "Requirement already satisfied: pyparsing!=2.0.4,!=2.1.2,!=2.1.6,>=2.0.1 in /usr/local/lib/python3.6/dist-packages (from matplotlib>=3.0->arviz) (2.4.7)\n",
            "Requirement already satisfied: pytz>=2017.2 in /usr/local/lib/python3.6/dist-packages (from pandas>=0.23->arviz) (2018.9)\n",
            "Requirement already satisfied: six in /usr/local/lib/python3.6/dist-packages (from packaging->arviz) (1.15.0)\n",
            "Requirement already satisfied: lifelines in /usr/local/lib/python3.6/dist-packages (0.25.5)\n",
            "Requirement already satisfied: scipy>=1.2.0 in /usr/local/lib/python3.6/dist-packages (from lifelines) (1.4.1)\n",
            "Requirement already satisfied: pandas>=0.23.0 in /usr/local/lib/python3.6/dist-packages (from lifelines) (1.1.2)\n",
            "Requirement already satisfied: numpy>=1.14.0 in /usr/local/lib/python3.6/dist-packages (from lifelines) (1.18.5)\n",
            "Requirement already satisfied: autograd-gamma>=0.3 in /usr/local/lib/python3.6/dist-packages (from lifelines) (0.4.3)\n",
            "Requirement already satisfied: patsy>=0.5.0 in /usr/local/lib/python3.6/dist-packages (from lifelines) (0.5.1)\n",
            "Requirement already satisfied: autograd>=1.3 in /usr/local/lib/python3.6/dist-packages (from lifelines) (1.3)\n",
            "Requirement already satisfied: matplotlib>=3.0 in /usr/local/lib/python3.6/dist-packages (from lifelines) (3.2.2)\n",
            "Requirement already satisfied: python-dateutil>=2.7.3 in /usr/local/lib/python3.6/dist-packages (from pandas>=0.23.0->lifelines) (2.8.1)\n",
            "Requirement already satisfied: pytz>=2017.2 in /usr/local/lib/python3.6/dist-packages (from pandas>=0.23.0->lifelines) (2018.9)\n",
            "Requirement already satisfied: six in /usr/local/lib/python3.6/dist-packages (from patsy>=0.5.0->lifelines) (1.15.0)\n",
            "Requirement already satisfied: future>=0.15.2 in /usr/local/lib/python3.6/dist-packages (from autograd>=1.3->lifelines) (0.16.0)\n",
            "Requirement already satisfied: cycler>=0.10 in /usr/local/lib/python3.6/dist-packages (from matplotlib>=3.0->lifelines) (0.10.0)\n",
            "Requirement already satisfied: kiwisolver>=1.0.1 in /usr/local/lib/python3.6/dist-packages (from matplotlib>=3.0->lifelines) (1.2.0)\n",
            "Requirement already satisfied: pyparsing!=2.0.4,!=2.1.2,!=2.1.6,>=2.0.1 in /usr/local/lib/python3.6/dist-packages (from matplotlib>=3.0->lifelines) (2.4.7)\n"
          ],
          "name": "stdout"
        }
      ]
    },
    {
      "cell_type": "markdown",
      "metadata": {
        "id": "PfCcmOM2Zled"
      },
      "source": [
        "# import modules"
      ]
    },
    {
      "cell_type": "code",
      "metadata": {
        "id": "fTAbvEOyi1RP",
        "outputId": "c90a2d9a-4f1a-4669-931d-f834b706bc8c",
        "colab": {
          "base_uri": "https://localhost:8080/",
          "height": 71
        }
      },
      "source": [
        "import numpy as np\n",
        "import pandas as pd\n",
        "import random\n",
        "import multiprocessing as mp\n",
        "import matplotlib.pyplot as plt\n",
        "import seaborn as sns\n",
        "import pylab as pl\n",
        "import pymc3 as pm\n",
        "from pymc3.distributions.timeseries import GaussianRandomWalk\n",
        "from scipy import stats\n",
        "from statsmodels.duration.hazard_regression import PHReg\n",
        "from IPython.display import display, Math, Latex, Markdown\n",
        "# from causalgraphicalmodels import CausalGraphicalModel\n",
        "# from causalinference import CausalModel\n",
        "from theano import tensor as T\n",
        "from matplotlib.pyplot import cm\n",
        "%matplotlib inline"
      ],
      "execution_count": 2,
      "outputs": [
        {
          "output_type": "stream",
          "text": [
            "/usr/local/lib/python3.6/dist-packages/statsmodels/tools/_testing.py:19: FutureWarning: pandas.util.testing is deprecated. Use the functions in the public API at pandas.testing instead.\n",
            "  import pandas.util.testing as tm\n"
          ],
          "name": "stderr"
        }
      ]
    },
    {
      "cell_type": "markdown",
      "metadata": {
        "id": "psWmCIBIzYR-"
      },
      "source": [
        "# Get data"
      ]
    },
    {
      "cell_type": "code",
      "metadata": {
        "id": "6UHqTq6XjZV2",
        "outputId": "5d675564-cba6-4f03-8d26-e9738ae76e1d",
        "colab": {
          "base_uri": "https://localhost:8080/",
          "height": 309
        }
      },
      "source": [
        "df_patient = pd.read_csv(\"PatientInfo.csv\")\n",
        "print (df_patient[\"patient_id\"].count())\n",
        "df_patient.head(5)"
      ],
      "execution_count": 3,
      "outputs": [
        {
          "output_type": "stream",
          "text": [
            "5165\n"
          ],
          "name": "stdout"
        },
        {
          "output_type": "execute_result",
          "data": {
            "text/html": [
              "<div>\n",
              "<style scoped>\n",
              "    .dataframe tbody tr th:only-of-type {\n",
              "        vertical-align: middle;\n",
              "    }\n",
              "\n",
              "    .dataframe tbody tr th {\n",
              "        vertical-align: top;\n",
              "    }\n",
              "\n",
              "    .dataframe thead th {\n",
              "        text-align: right;\n",
              "    }\n",
              "</style>\n",
              "<table border=\"1\" class=\"dataframe\">\n",
              "  <thead>\n",
              "    <tr style=\"text-align: right;\">\n",
              "      <th></th>\n",
              "      <th>patient_id</th>\n",
              "      <th>sex</th>\n",
              "      <th>age</th>\n",
              "      <th>country</th>\n",
              "      <th>province</th>\n",
              "      <th>city</th>\n",
              "      <th>infection_case</th>\n",
              "      <th>infected_by</th>\n",
              "      <th>contact_number</th>\n",
              "      <th>symptom_onset_date</th>\n",
              "      <th>confirmed_date</th>\n",
              "      <th>released_date</th>\n",
              "      <th>deceased_date</th>\n",
              "      <th>state</th>\n",
              "    </tr>\n",
              "  </thead>\n",
              "  <tbody>\n",
              "    <tr>\n",
              "      <th>0</th>\n",
              "      <td>1000000001</td>\n",
              "      <td>male</td>\n",
              "      <td>50s</td>\n",
              "      <td>Korea</td>\n",
              "      <td>Seoul</td>\n",
              "      <td>Gangseo-gu</td>\n",
              "      <td>overseas inflow</td>\n",
              "      <td>NaN</td>\n",
              "      <td>75</td>\n",
              "      <td>2020-01-22</td>\n",
              "      <td>2020-01-23</td>\n",
              "      <td>2020-02-05</td>\n",
              "      <td>NaN</td>\n",
              "      <td>released</td>\n",
              "    </tr>\n",
              "    <tr>\n",
              "      <th>1</th>\n",
              "      <td>1000000002</td>\n",
              "      <td>male</td>\n",
              "      <td>30s</td>\n",
              "      <td>Korea</td>\n",
              "      <td>Seoul</td>\n",
              "      <td>Jungnang-gu</td>\n",
              "      <td>overseas inflow</td>\n",
              "      <td>NaN</td>\n",
              "      <td>31</td>\n",
              "      <td>NaN</td>\n",
              "      <td>2020-01-30</td>\n",
              "      <td>2020-03-02</td>\n",
              "      <td>NaN</td>\n",
              "      <td>released</td>\n",
              "    </tr>\n",
              "    <tr>\n",
              "      <th>2</th>\n",
              "      <td>1000000003</td>\n",
              "      <td>male</td>\n",
              "      <td>50s</td>\n",
              "      <td>Korea</td>\n",
              "      <td>Seoul</td>\n",
              "      <td>Jongno-gu</td>\n",
              "      <td>contact with patient</td>\n",
              "      <td>2002000001</td>\n",
              "      <td>17</td>\n",
              "      <td>NaN</td>\n",
              "      <td>2020-01-30</td>\n",
              "      <td>2020-02-19</td>\n",
              "      <td>NaN</td>\n",
              "      <td>released</td>\n",
              "    </tr>\n",
              "    <tr>\n",
              "      <th>3</th>\n",
              "      <td>1000000004</td>\n",
              "      <td>male</td>\n",
              "      <td>20s</td>\n",
              "      <td>Korea</td>\n",
              "      <td>Seoul</td>\n",
              "      <td>Mapo-gu</td>\n",
              "      <td>overseas inflow</td>\n",
              "      <td>NaN</td>\n",
              "      <td>9</td>\n",
              "      <td>2020-01-26</td>\n",
              "      <td>2020-01-30</td>\n",
              "      <td>2020-02-15</td>\n",
              "      <td>NaN</td>\n",
              "      <td>released</td>\n",
              "    </tr>\n",
              "    <tr>\n",
              "      <th>4</th>\n",
              "      <td>1000000005</td>\n",
              "      <td>female</td>\n",
              "      <td>20s</td>\n",
              "      <td>Korea</td>\n",
              "      <td>Seoul</td>\n",
              "      <td>Seongbuk-gu</td>\n",
              "      <td>contact with patient</td>\n",
              "      <td>1000000002</td>\n",
              "      <td>2</td>\n",
              "      <td>NaN</td>\n",
              "      <td>2020-01-31</td>\n",
              "      <td>2020-02-24</td>\n",
              "      <td>NaN</td>\n",
              "      <td>released</td>\n",
              "    </tr>\n",
              "  </tbody>\n",
              "</table>\n",
              "</div>"
            ],
            "text/plain": [
              "   patient_id     sex  age  ... released_date deceased_date     state\n",
              "0  1000000001    male  50s  ...    2020-02-05           NaN  released\n",
              "1  1000000002    male  30s  ...    2020-03-02           NaN  released\n",
              "2  1000000003    male  50s  ...    2020-02-19           NaN  released\n",
              "3  1000000004    male  20s  ...    2020-02-15           NaN  released\n",
              "4  1000000005  female  20s  ...    2020-02-24           NaN  released\n",
              "\n",
              "[5 rows x 14 columns]"
            ]
          },
          "metadata": {
            "tags": []
          },
          "execution_count": 3
        }
      ]
    },
    {
      "cell_type": "code",
      "metadata": {
        "id": "zpLicE5Ljkl3",
        "outputId": "38227331-2807-488c-b1cc-40ee9895ec5e",
        "colab": {
          "base_uri": "https://localhost:8080/",
          "height": 199
        }
      },
      "source": [
        "df_patient[df_patient[\"state\"]==\"deceased\"].sort_values(\"deceased_date\").head(2)"
      ],
      "execution_count": 4,
      "outputs": [
        {
          "output_type": "execute_result",
          "data": {
            "text/html": [
              "<div>\n",
              "<style scoped>\n",
              "    .dataframe tbody tr th:only-of-type {\n",
              "        vertical-align: middle;\n",
              "    }\n",
              "\n",
              "    .dataframe tbody tr th {\n",
              "        vertical-align: top;\n",
              "    }\n",
              "\n",
              "    .dataframe thead th {\n",
              "        text-align: right;\n",
              "    }\n",
              "</style>\n",
              "<table border=\"1\" class=\"dataframe\">\n",
              "  <thead>\n",
              "    <tr style=\"text-align: right;\">\n",
              "      <th></th>\n",
              "      <th>patient_id</th>\n",
              "      <th>sex</th>\n",
              "      <th>age</th>\n",
              "      <th>country</th>\n",
              "      <th>province</th>\n",
              "      <th>city</th>\n",
              "      <th>infection_case</th>\n",
              "      <th>infected_by</th>\n",
              "      <th>contact_number</th>\n",
              "      <th>symptom_onset_date</th>\n",
              "      <th>confirmed_date</th>\n",
              "      <th>released_date</th>\n",
              "      <th>deceased_date</th>\n",
              "      <th>state</th>\n",
              "    </tr>\n",
              "  </thead>\n",
              "  <tbody>\n",
              "    <tr>\n",
              "      <th>4902</th>\n",
              "      <td>6020100104</td>\n",
              "      <td>male</td>\n",
              "      <td>60s</td>\n",
              "      <td>Korea</td>\n",
              "      <td>Gyeongsangbuk-do</td>\n",
              "      <td>Cheongdo-gun</td>\n",
              "      <td>Cheongdo Daenam Hospital</td>\n",
              "      <td>NaN</td>\n",
              "      <td>NaN</td>\n",
              "      <td>NaN</td>\n",
              "      <td>2020-02-20</td>\n",
              "      <td>NaN</td>\n",
              "      <td>2020-02-19</td>\n",
              "      <td>deceased</td>\n",
              "    </tr>\n",
              "    <tr>\n",
              "      <th>4904</th>\n",
              "      <td>6020100205</td>\n",
              "      <td>female</td>\n",
              "      <td>50s</td>\n",
              "      <td>Korea</td>\n",
              "      <td>Gyeongsangbuk-do</td>\n",
              "      <td>Cheongdo-gun</td>\n",
              "      <td>Cheongdo Daenam Hospital</td>\n",
              "      <td>NaN</td>\n",
              "      <td>NaN</td>\n",
              "      <td>NaN</td>\n",
              "      <td>2020-02-22</td>\n",
              "      <td>NaN</td>\n",
              "      <td>2020-02-21</td>\n",
              "      <td>deceased</td>\n",
              "    </tr>\n",
              "  </tbody>\n",
              "</table>\n",
              "</div>"
            ],
            "text/plain": [
              "      patient_id     sex  age  ... released_date deceased_date     state\n",
              "4902  6020100104    male  60s  ...           NaN    2020-02-19  deceased\n",
              "4904  6020100205  female  50s  ...           NaN    2020-02-21  deceased\n",
              "\n",
              "[2 rows x 14 columns]"
            ]
          },
          "metadata": {
            "tags": []
          },
          "execution_count": 4
        }
      ]
    },
    {
      "cell_type": "code",
      "metadata": {
        "id": "fvdrOey018-v",
        "outputId": "55b89020-6fdd-472d-b460-fe26e465ff5d",
        "colab": {
          "base_uri": "https://localhost:8080/",
          "height": 68
        }
      },
      "source": [
        "print (df_patient[\"sex\"].value_counts())"
      ],
      "execution_count": 5,
      "outputs": [
        {
          "output_type": "stream",
          "text": [
            "female    2218\n",
            "male      1825\n",
            "Name: sex, dtype: int64\n"
          ],
          "name": "stdout"
        }
      ]
    },
    {
      "cell_type": "code",
      "metadata": {
        "id": "IyEm6QEI6ihb",
        "outputId": "ecfa6018-d78c-4752-8090-2f9b833b3888",
        "colab": {
          "base_uri": "https://localhost:8080/",
          "height": 68
        }
      },
      "source": [
        "print (df_patient[\"country\"].unique())"
      ],
      "execution_count": 6,
      "outputs": [
        {
          "output_type": "stream",
          "text": [
            "['Korea' 'China' 'United States' 'France' 'Thailand' 'Canada' 'India'\n",
            " 'Switzerland' 'Germany' 'Indonesia' 'Vietnam' 'Foreign' 'Mongolia'\n",
            " 'United Kingdom' 'Spain' 'Bangladesh']\n"
          ],
          "name": "stdout"
        }
      ]
    },
    {
      "cell_type": "code",
      "metadata": {
        "id": "9f_jJ0QVsQNN",
        "outputId": "2c7b27d5-0757-48bb-c69f-ec86605d8e6b",
        "colab": {
          "base_uri": "https://localhost:8080/",
          "height": 272
        }
      },
      "source": [
        "df_patient[df_patient[\"state\"]==\"deceased\"].count()"
      ],
      "execution_count": 7,
      "outputs": [
        {
          "output_type": "execute_result",
          "data": {
            "text/plain": [
              "patient_id            78\n",
              "sex                   75\n",
              "age                   75\n",
              "country               78\n",
              "province              78\n",
              "city                  59\n",
              "infection_case        36\n",
              "infected_by            3\n",
              "contact_number         7\n",
              "symptom_onset_date     6\n",
              "confirmed_date        78\n",
              "released_date          3\n",
              "deceased_date         66\n",
              "state                 78\n",
              "dtype: int64"
            ]
          },
          "metadata": {
            "tags": []
          },
          "execution_count": 7
        }
      ]
    },
    {
      "cell_type": "code",
      "metadata": {
        "id": "mHYz14d0QLaJ",
        "outputId": "c271e338-3fbe-4af2-aa89-97d75535fd15",
        "colab": {
          "base_uri": "https://localhost:8080/",
          "height": 272
        }
      },
      "source": [
        "df_patient[df_patient[\"state\"]==\"isolated\"].count()"
      ],
      "execution_count": 8,
      "outputs": [
        {
          "output_type": "execute_result",
          "data": {
            "text/plain": [
              "patient_id            2158\n",
              "sex                   1454\n",
              "age                   1212\n",
              "country               2158\n",
              "province              2158\n",
              "city                  2113\n",
              "infection_case        1958\n",
              "infected_by            869\n",
              "contact_number         241\n",
              "symptom_onset_date     279\n",
              "confirmed_date        2158\n",
              "released_date            5\n",
              "deceased_date            0\n",
              "state                 2158\n",
              "dtype: int64"
            ]
          },
          "metadata": {
            "tags": []
          },
          "execution_count": 8
        }
      ]
    },
    {
      "cell_type": "code",
      "metadata": {
        "id": "913OJnxJsnQM",
        "outputId": "f80c9b55-295b-4a98-f469-9e71db2a4a22",
        "colab": {
          "base_uri": "https://localhost:8080/",
          "height": 34
        }
      },
      "source": [
        "def process_data(df_patient):\n",
        "    df = df_patient.copy()\n",
        "    df = df[[\"sex\",\"age\",#\"country\",\n",
        "            \"confirmed_date\",\"released_date\",\"deceased_date\",\"state\"]]\n",
        "    df[\"released_date\"] = df[\"released_date\"].astype(\"datetime64[ns]\")\n",
        "    df[\"confirmed_date\"] = df[\"confirmed_date\"].astype(\"datetime64[ns]\")\n",
        "    df[\"deceased_date\"] = df[\"deceased_date\"].astype(\"datetime64[ns]\")\n",
        "\n",
        "    # calculate time \n",
        "    df.loc[df[\"released_date\"].notnull(), \"timeline\"] = df[\"released_date\"] - df[\"confirmed_date\"]\n",
        "    df.loc[(df[\"state\"]==\"deceased\") & (df[\"deceased_date\"].notnull()), \"timeline\"] = df[\"deceased_date\"] - df[\"confirmed_date\"]\n",
        "    df[\"timeline\"] = pd.to_numeric(df['timeline'].dt.days, downcast='integer')\n",
        "    print (\"time min:{}, max:{}\".format(df[\"timeline\"].min(), df[\"timeline\"].max()))\n",
        "    \n",
        "    # duration has to be non-negative number\n",
        "    df = df.drop(df[df[\"timeline\"]<0].index)\n",
        "\n",
        "    # censoring\n",
        "    df[\"event\"] = np.where(df[\"state\"]==\"isolated\", 0, 1)\n",
        "    # deceased\n",
        "    df[\"death\"] = np.where(df[\"state\"]==\"deceased\", 1, 0)\n",
        "\n",
        "    # manage null data\n",
        "    # random_int = np.random.randint(0, df[\"timeline\"].max(), size = (df.shape[0], 1)) \n",
        "    # df[\"random_int\"] = random_int\n",
        "    # df.loc[df[\"timeline\"].isnull(), \"timeline\"] = df[\"random_int\"]\n",
        "    # df = df.drop([\"random_int\"], axis=1)\n",
        "    df = df.dropna(subset=[\"timeline\"])\n",
        "    # df.loc[df[\"timeline\"].isnull(), \"timeline\"] = df[\"timeline\"].max()\n",
        "\n",
        "    df.reset_index(inplace=True)\n",
        "    df.head(2)\n",
        "    return df\n",
        "\n",
        "df = process_data(df_patient)"
      ],
      "execution_count": 9,
      "outputs": [
        {
          "output_type": "stream",
          "text": [
            "time min:-1.0, max:114.0\n"
          ],
          "name": "stdout"
        }
      ]
    },
    {
      "cell_type": "code",
      "metadata": {
        "id": "g7-pJUYv_Xnp",
        "outputId": "eb419bfe-caef-4353-9169-bf9fb89e2c59",
        "colab": {
          "base_uri": "https://localhost:8080/",
          "height": 85
        }
      },
      "source": [
        "df[\"state\"].value_counts()"
      ],
      "execution_count": 10,
      "outputs": [
        {
          "output_type": "execute_result",
          "data": {
            "text/plain": [
              "released    1579\n",
              "deceased      65\n",
              "isolated       5\n",
              "Name: state, dtype: int64"
            ]
          },
          "metadata": {
            "tags": []
          },
          "execution_count": 10
        }
      ]
    },
    {
      "cell_type": "code",
      "metadata": {
        "id": "yAstxfiZnEi2",
        "outputId": "9af95534-c3e2-4c8b-c2eb-83d5bed7dbe6",
        "colab": {
          "base_uri": "https://localhost:8080/",
          "height": 204
        }
      },
      "source": [
        "df[df[\"event\"]==0].head()"
      ],
      "execution_count": 11,
      "outputs": [
        {
          "output_type": "execute_result",
          "data": {
            "text/html": [
              "<div>\n",
              "<style scoped>\n",
              "    .dataframe tbody tr th:only-of-type {\n",
              "        vertical-align: middle;\n",
              "    }\n",
              "\n",
              "    .dataframe tbody tr th {\n",
              "        vertical-align: top;\n",
              "    }\n",
              "\n",
              "    .dataframe thead th {\n",
              "        text-align: right;\n",
              "    }\n",
              "</style>\n",
              "<table border=\"1\" class=\"dataframe\">\n",
              "  <thead>\n",
              "    <tr style=\"text-align: right;\">\n",
              "      <th></th>\n",
              "      <th>index</th>\n",
              "      <th>sex</th>\n",
              "      <th>age</th>\n",
              "      <th>confirmed_date</th>\n",
              "      <th>released_date</th>\n",
              "      <th>deceased_date</th>\n",
              "      <th>state</th>\n",
              "      <th>timeline</th>\n",
              "      <th>event</th>\n",
              "      <th>death</th>\n",
              "    </tr>\n",
              "  </thead>\n",
              "  <tbody>\n",
              "    <tr>\n",
              "      <th>97</th>\n",
              "      <td>1620</td>\n",
              "      <td>female</td>\n",
              "      <td>40s</td>\n",
              "      <td>2020-03-31</td>\n",
              "      <td>2020-04-13</td>\n",
              "      <td>NaT</td>\n",
              "      <td>isolated</td>\n",
              "      <td>13.0</td>\n",
              "      <td>0</td>\n",
              "      <td>0</td>\n",
              "    </tr>\n",
              "    <tr>\n",
              "      <th>99</th>\n",
              "      <td>1622</td>\n",
              "      <td>female</td>\n",
              "      <td>10s</td>\n",
              "      <td>2020-03-31</td>\n",
              "      <td>2020-04-13</td>\n",
              "      <td>NaT</td>\n",
              "      <td>isolated</td>\n",
              "      <td>13.0</td>\n",
              "      <td>0</td>\n",
              "      <td>0</td>\n",
              "    </tr>\n",
              "    <tr>\n",
              "      <th>101</th>\n",
              "      <td>1627</td>\n",
              "      <td>male</td>\n",
              "      <td>20s</td>\n",
              "      <td>2020-04-14</td>\n",
              "      <td>2020-04-22</td>\n",
              "      <td>NaT</td>\n",
              "      <td>isolated</td>\n",
              "      <td>8.0</td>\n",
              "      <td>0</td>\n",
              "      <td>0</td>\n",
              "    </tr>\n",
              "    <tr>\n",
              "      <th>176</th>\n",
              "      <td>1717</td>\n",
              "      <td>female</td>\n",
              "      <td>0s</td>\n",
              "      <td>2020-04-01</td>\n",
              "      <td>2020-05-12</td>\n",
              "      <td>NaT</td>\n",
              "      <td>isolated</td>\n",
              "      <td>41.0</td>\n",
              "      <td>0</td>\n",
              "      <td>0</td>\n",
              "    </tr>\n",
              "    <tr>\n",
              "      <th>804</th>\n",
              "      <td>3886</td>\n",
              "      <td>female</td>\n",
              "      <td>70s</td>\n",
              "      <td>2020-02-29</td>\n",
              "      <td>2020-04-01</td>\n",
              "      <td>NaT</td>\n",
              "      <td>isolated</td>\n",
              "      <td>32.0</td>\n",
              "      <td>0</td>\n",
              "      <td>0</td>\n",
              "    </tr>\n",
              "  </tbody>\n",
              "</table>\n",
              "</div>"
            ],
            "text/plain": [
              "     index     sex  age confirmed_date  ...     state timeline event  death\n",
              "97    1620  female  40s     2020-03-31  ...  isolated     13.0     0      0\n",
              "99    1622  female  10s     2020-03-31  ...  isolated     13.0     0      0\n",
              "101   1627    male  20s     2020-04-14  ...  isolated      8.0     0      0\n",
              "176   1717  female   0s     2020-04-01  ...  isolated     41.0     0      0\n",
              "804   3886  female  70s     2020-02-29  ...  isolated     32.0     0      0\n",
              "\n",
              "[5 rows x 10 columns]"
            ]
          },
          "metadata": {
            "tags": []
          },
          "execution_count": 11
        }
      ]
    },
    {
      "cell_type": "code",
      "metadata": {
        "id": "cUHAL6o1_MiJ",
        "outputId": "37128b5b-8914-4727-fbcb-9a202c70f83b",
        "colab": {
          "base_uri": "https://localhost:8080/",
          "height": 111
        }
      },
      "source": [
        "df[df[\"state\"] == \"isolated\"].sort_values(\"released_date\", ascending=False).head(2)"
      ],
      "execution_count": 12,
      "outputs": [
        {
          "output_type": "execute_result",
          "data": {
            "text/html": [
              "<div>\n",
              "<style scoped>\n",
              "    .dataframe tbody tr th:only-of-type {\n",
              "        vertical-align: middle;\n",
              "    }\n",
              "\n",
              "    .dataframe tbody tr th {\n",
              "        vertical-align: top;\n",
              "    }\n",
              "\n",
              "    .dataframe thead th {\n",
              "        text-align: right;\n",
              "    }\n",
              "</style>\n",
              "<table border=\"1\" class=\"dataframe\">\n",
              "  <thead>\n",
              "    <tr style=\"text-align: right;\">\n",
              "      <th></th>\n",
              "      <th>index</th>\n",
              "      <th>sex</th>\n",
              "      <th>age</th>\n",
              "      <th>confirmed_date</th>\n",
              "      <th>released_date</th>\n",
              "      <th>deceased_date</th>\n",
              "      <th>state</th>\n",
              "      <th>timeline</th>\n",
              "      <th>event</th>\n",
              "      <th>death</th>\n",
              "    </tr>\n",
              "  </thead>\n",
              "  <tbody>\n",
              "    <tr>\n",
              "      <th>176</th>\n",
              "      <td>1717</td>\n",
              "      <td>female</td>\n",
              "      <td>0s</td>\n",
              "      <td>2020-04-01</td>\n",
              "      <td>2020-05-12</td>\n",
              "      <td>NaT</td>\n",
              "      <td>isolated</td>\n",
              "      <td>41.0</td>\n",
              "      <td>0</td>\n",
              "      <td>0</td>\n",
              "    </tr>\n",
              "    <tr>\n",
              "      <th>101</th>\n",
              "      <td>1627</td>\n",
              "      <td>male</td>\n",
              "      <td>20s</td>\n",
              "      <td>2020-04-14</td>\n",
              "      <td>2020-04-22</td>\n",
              "      <td>NaT</td>\n",
              "      <td>isolated</td>\n",
              "      <td>8.0</td>\n",
              "      <td>0</td>\n",
              "      <td>0</td>\n",
              "    </tr>\n",
              "  </tbody>\n",
              "</table>\n",
              "</div>"
            ],
            "text/plain": [
              "     index     sex  age confirmed_date  ...     state timeline event  death\n",
              "176   1717  female   0s     2020-04-01  ...  isolated     41.0     0      0\n",
              "101   1627    male  20s     2020-04-14  ...  isolated      8.0     0      0\n",
              "\n",
              "[2 rows x 10 columns]"
            ]
          },
          "metadata": {
            "tags": []
          },
          "execution_count": 12
        }
      ]
    },
    {
      "cell_type": "code",
      "metadata": {
        "id": "A5pSwa8bQD-E",
        "outputId": "cae29561-77eb-4b62-e28b-f2321a524aad",
        "colab": {
          "base_uri": "https://localhost:8080/",
          "height": 111
        }
      },
      "source": [
        "df[df[\"state\"] == \"deceased\"].sort_values(\"released_date\", ascending=False).head(2)"
      ],
      "execution_count": 13,
      "outputs": [
        {
          "output_type": "execute_result",
          "data": {
            "text/html": [
              "<div>\n",
              "<style scoped>\n",
              "    .dataframe tbody tr th:only-of-type {\n",
              "        vertical-align: middle;\n",
              "    }\n",
              "\n",
              "    .dataframe tbody tr th {\n",
              "        vertical-align: top;\n",
              "    }\n",
              "\n",
              "    .dataframe thead th {\n",
              "        text-align: right;\n",
              "    }\n",
              "</style>\n",
              "<table border=\"1\" class=\"dataframe\">\n",
              "  <thead>\n",
              "    <tr style=\"text-align: right;\">\n",
              "      <th></th>\n",
              "      <th>index</th>\n",
              "      <th>sex</th>\n",
              "      <th>age</th>\n",
              "      <th>confirmed_date</th>\n",
              "      <th>released_date</th>\n",
              "      <th>deceased_date</th>\n",
              "      <th>state</th>\n",
              "      <th>timeline</th>\n",
              "      <th>event</th>\n",
              "      <th>death</th>\n",
              "    </tr>\n",
              "  </thead>\n",
              "  <tbody>\n",
              "    <tr>\n",
              "      <th>1024</th>\n",
              "      <td>4106</td>\n",
              "      <td>female</td>\n",
              "      <td>70s</td>\n",
              "      <td>2020-03-05</td>\n",
              "      <td>2020-05-08</td>\n",
              "      <td>2020-05-11</td>\n",
              "      <td>deceased</td>\n",
              "      <td>67.0</td>\n",
              "      <td>1</td>\n",
              "      <td>1</td>\n",
              "    </tr>\n",
              "    <tr>\n",
              "      <th>898</th>\n",
              "      <td>3980</td>\n",
              "      <td>female</td>\n",
              "      <td>80s</td>\n",
              "      <td>2020-03-02</td>\n",
              "      <td>2020-03-30</td>\n",
              "      <td>2020-04-08</td>\n",
              "      <td>deceased</td>\n",
              "      <td>37.0</td>\n",
              "      <td>1</td>\n",
              "      <td>1</td>\n",
              "    </tr>\n",
              "  </tbody>\n",
              "</table>\n",
              "</div>"
            ],
            "text/plain": [
              "      index     sex  age confirmed_date  ...     state timeline event  death\n",
              "1024   4106  female  70s     2020-03-05  ...  deceased     67.0     1      1\n",
              "898    3980  female  80s     2020-03-02  ...  deceased     37.0     1      1\n",
              "\n",
              "[2 rows x 10 columns]"
            ]
          },
          "metadata": {
            "tags": []
          },
          "execution_count": 13
        }
      ]
    },
    {
      "cell_type": "markdown",
      "metadata": {
        "id": "Ku-zdOXqQSQv"
      },
      "source": [
        "## Data visualisation"
      ]
    },
    {
      "cell_type": "code",
      "metadata": {
        "id": "rxhQKNa3rp6B",
        "outputId": "eaf55538-25d9-4357-8875-cbe2755f0dcd",
        "colab": {
          "base_uri": "https://localhost:8080/",
          "height": 405
        }
      },
      "source": [
        "n_patients = df.shape[0]\n",
        "patients = np.arange(n_patients)\n",
        "fig, ax = plt.subplots(figsize=(8, 6))\n",
        "blue, _, red = sns.color_palette()[:3]\n",
        "ax.hlines(patients[df.event.values == 1], 0, df[df.event.values == 1].timeline, color='green', label='Uncensored')\n",
        "ax.hlines(patients[df.event.values == 0], 0, df[df.event.values == 0].timeline, color='red', label='Censored')\n",
        "ax.scatter(df[df.death.values == 1].timeline, patients[df.death.values == 1], color='k', zorder=10, label='Death')\n",
        "ax.set_xlabel('Days since infected confirmation')\n",
        "ax.set_ylabel('Case No.')\n",
        "ax.legend(loc='upper right', bbox_to_anchor=(1.25,1.0))"
      ],
      "execution_count": 14,
      "outputs": [
        {
          "output_type": "execute_result",
          "data": {
            "text/plain": [
              "<matplotlib.legend.Legend at 0x7f8c0c7a27b8>"
            ]
          },
          "metadata": {
            "tags": []
          },
          "execution_count": 14
        },
        {
          "output_type": "display_data",
          "data": {
            "image/png": "[encoded data removed]",
            "text/plain": [
              "<Figure size 576x432 with 1 Axes>"
            ]
          },
          "metadata": {
            "tags": [],
            "needs_background": "light"
          }
        }
      ]
    },
    {
      "cell_type": "code",
      "metadata": {
        "id": "pneCV97gn_RU",
        "outputId": "703e66c8-c7ea-4034-947f-b7b461b4a9af",
        "colab": {
          "base_uri": "https://localhost:8080/",
          "height": 388
        }
      },
      "source": [
        "fig, ax = plt.subplots(figsize=(8, 6))\n",
        "ax.hist(df[df.event == 1].timeline.values, bins=100,\n",
        "        color='green', alpha=0.5, lw=0, label='Uncensored');\n",
        "ax.hist(df[df.event == 0].timeline.values, bins=100,\n",
        "        color='red', alpha=0.5, lw=0, label='Censored');\n",
        "ax.set_xlabel('Days since infected');\n",
        "ax.set_ylabel('Number of observations');\n",
        "ax.legend();"
      ],
      "execution_count": 15,
      "outputs": [
        {
          "output_type": "display_data",
          "data": {
            "image/png": "[encoded data removed]",
            "text/plain": [
              "<Figure size 576x432 with 1 Axes>"
            ]
          },
          "metadata": {
            "tags": [],
            "needs_background": "light"
          }
        }
      ]
    },
    {
      "cell_type": "code",
      "metadata": {
        "id": "1C_X4Vp5iK13"
      },
      "source": [
        "# from lifelines.plotting import plot_lifetimes\n",
        "# CURRENT_TIME = df[\"timeline\"].max()\n",
        "# actual_lifetimes = df[\"timeline\"].values\n",
        "# observed_lifetimes = np.minimum(actual_lifetimes, CURRENT_TIME)\n",
        "# death_observed = actual_lifetimes < CURRENT_TIME\n",
        "# ax = plot_lifetimes(observed_lifetimes, event_observed=death_observed)\n",
        "# ax.set_xlabel(\"Timeline\")\n",
        "# ax.set_title(\"Infected dudation of our population\")"
      ],
      "execution_count": 16,
      "outputs": []
    },
    {
      "cell_type": "markdown",
      "metadata": {
        "id": "G_GLvhJo3TKr"
      },
      "source": [
        "# Kaplan-Meier Estimate"
      ]
    },
    {
      "cell_type": "code",
      "metadata": {
        "id": "GyxnvWL43SXN",
        "outputId": "2ff9d613-fe2a-4470-95fb-8499749fb198",
        "colab": {
          "base_uri": "https://localhost:8080/",
          "height": 312
        }
      },
      "source": [
        "from lifelines import KaplanMeierFitter\n",
        "\n",
        "df_km = df.copy()\n",
        "\n",
        "# Create a kmf object\n",
        "kmf = KaplanMeierFitter() \n",
        "\n",
        "# Fit the data into the model\n",
        "durations = df_km[\"timeline\"].values\n",
        "event_observed = df_km[\"event\"].values\n",
        "kmf.fit(durations, event_observed,label='Kaplan Meier Estimate')\n",
        "\n",
        "# Create an estimate\n",
        "kmf.plot(ci_show=True) # ci = confidence interval\n",
        "plt.xlabel(\"Timeline (days)\")\n",
        "plt.ylabel(\"Probability event has not occurred\")\n",
        "plt.title(\" KaplanMeier: Survival function\")"
      ],
      "execution_count": 17,
      "outputs": [
        {
          "output_type": "execute_result",
          "data": {
            "text/plain": [
              "Text(0.5, 1.0, ' KaplanMeier: Survival function')"
            ]
          },
          "metadata": {
            "tags": []
          },
          "execution_count": 17
        },
        {
          "output_type": "display_data",
          "data": {
            "image/png": "[encoded data removed]",
            "text/plain": [
              "<Figure size 432x288 with 1 Axes>"
            ]
          },
          "metadata": {
            "tags": [],
            "needs_background": "light"
          }
        }
      ]
    },
    {
      "cell_type": "code",
      "metadata": {
        "id": "OA67lTOQa6Ho",
        "outputId": "bd1d79f2-a0fc-4aaa-fb8f-27064b05b8fa",
        "colab": {
          "base_uri": "https://localhost:8080/",
          "height": 311
        }
      },
      "source": [
        "kmf.plot(at_risk_counts=True)"
      ],
      "execution_count": 18,
      "outputs": [
        {
          "output_type": "execute_result",
          "data": {
            "text/plain": [
              "<matplotlib.axes._subplots.AxesSubplot at 0x7f8c0db47748>"
            ]
          },
          "metadata": {
            "tags": []
          },
          "execution_count": 18
        },
        {
          "output_type": "display_data",
          "data": {
            "image/png": "[encoded data removed]",
            "text/plain": [
              "<Figure size 432x288 with 2 Axes>"
            ]
          },
          "metadata": {
            "tags": [],
            "needs_background": "light"
          }
        }
      ]
    },
    {
      "cell_type": "code",
      "metadata": {
        "id": "_5UcE-WGNFNY",
        "outputId": "dfaeb237-705a-49ba-a404-34f190fed38a",
        "colab": {
          "base_uri": "https://localhost:8080/",
          "height": 312
        }
      },
      "source": [
        "ax = plt.subplot(111)\n",
        "kmf.fit(df_km[df_km[\"death\"]==0][\"timeline\"].values, df_km[df_km[\"death\"]==0][\"event\"].values,label='Recovered')\n",
        "kmf.plot(ax=ax) \n",
        "kmf.fit(df_km[df_km[\"death\"]==1][\"timeline\"].values, df_km[df_km[\"death\"]==1][\"event\"].values,label='Death')\n",
        "kmf.plot(ax=ax)\n",
        "plt.xlabel(\"Timeline (days)\")\n",
        "plt.ylabel(\"Probability event (Recovered or Death) has not occurred\")\n",
        "plt.title(\" KaplanMeier: Survival function\");"
      ],
      "execution_count": 19,
      "outputs": [
        {
          "output_type": "display_data",
          "data": {
            "image/png": "[encoded data removed]",
            "text/plain": [
              "<Figure size 432x288 with 1 Axes>"
            ]
          },
          "metadata": {
            "tags": [],
            "needs_background": "light"
          }
        }
      ]
    },
    {
      "cell_type": "markdown",
      "metadata": {
        "id": "6b1AjR-uLAgk"
      },
      "source": [
        "# Cox Proportional Hazard Model"
      ]
    },
    {
      "cell_type": "code",
      "metadata": {
        "id": "sSbfWs6-5z9E",
        "outputId": "25d595fe-188b-4c35-e9ab-37307147208f",
        "colab": {
          "base_uri": "https://localhost:8080/",
          "height": 255
        }
      },
      "source": [
        "from lifelines import CoxPHFitter\n",
        "from sklearn.preprocessing import LabelEncoder\n",
        "\n",
        "df_cox = df.copy()\n",
        "print (df_cox.columns)\n",
        "df_cox = df_cox.drop(columns=[\"index\",\"confirmed_date\",\"released_date\",\"deceased_date\",\"death\",\"state\"], axis=1)\n",
        "df_cox = df_cox.dropna()\n",
        "# df_dummy = pd.get_dummies(df_cox, drop_first=True)\n",
        "# df_dummy = df_dummy.dropna()\n",
        "# df_dummy.head(2)\n",
        "\n",
        "df_cox.head()"
      ],
      "execution_count": 20,
      "outputs": [
        {
          "output_type": "stream",
          "text": [
            "Index(['index', 'sex', 'age', 'confirmed_date', 'released_date',\n",
            "       'deceased_date', 'state', 'timeline', 'event', 'death'],\n",
            "      dtype='object')\n"
          ],
          "name": "stdout"
        },
        {
          "output_type": "execute_result",
          "data": {
            "text/html": [
              "<div>\n",
              "<style scoped>\n",
              "    .dataframe tbody tr th:only-of-type {\n",
              "        vertical-align: middle;\n",
              "    }\n",
              "\n",
              "    .dataframe tbody tr th {\n",
              "        vertical-align: top;\n",
              "    }\n",
              "\n",
              "    .dataframe thead th {\n",
              "        text-align: right;\n",
              "    }\n",
              "</style>\n",
              "<table border=\"1\" class=\"dataframe\">\n",
              "  <thead>\n",
              "    <tr style=\"text-align: right;\">\n",
              "      <th></th>\n",
              "      <th>sex</th>\n",
              "      <th>age</th>\n",
              "      <th>timeline</th>\n",
              "      <th>event</th>\n",
              "    </tr>\n",
              "  </thead>\n",
              "  <tbody>\n",
              "    <tr>\n",
              "      <th>0</th>\n",
              "      <td>male</td>\n",
              "      <td>50s</td>\n",
              "      <td>13.0</td>\n",
              "      <td>1</td>\n",
              "    </tr>\n",
              "    <tr>\n",
              "      <th>1</th>\n",
              "      <td>male</td>\n",
              "      <td>30s</td>\n",
              "      <td>32.0</td>\n",
              "      <td>1</td>\n",
              "    </tr>\n",
              "    <tr>\n",
              "      <th>2</th>\n",
              "      <td>male</td>\n",
              "      <td>50s</td>\n",
              "      <td>20.0</td>\n",
              "      <td>1</td>\n",
              "    </tr>\n",
              "    <tr>\n",
              "      <th>3</th>\n",
              "      <td>male</td>\n",
              "      <td>20s</td>\n",
              "      <td>16.0</td>\n",
              "      <td>1</td>\n",
              "    </tr>\n",
              "    <tr>\n",
              "      <th>4</th>\n",
              "      <td>female</td>\n",
              "      <td>20s</td>\n",
              "      <td>24.0</td>\n",
              "      <td>1</td>\n",
              "    </tr>\n",
              "  </tbody>\n",
              "</table>\n",
              "</div>"
            ],
            "text/plain": [
              "      sex  age  timeline  event\n",
              "0    male  50s      13.0      1\n",
              "1    male  30s      32.0      1\n",
              "2    male  50s      20.0      1\n",
              "3    male  20s      16.0      1\n",
              "4  female  20s      24.0      1"
            ]
          },
          "metadata": {
            "tags": []
          },
          "execution_count": 20
        }
      ]
    },
    {
      "cell_type": "code",
      "metadata": {
        "id": "ZtS-5e1bEsEu",
        "outputId": "eebdf892-d658-4493-ec15-7c3ce42aec2d",
        "colab": {
          "base_uri": "https://localhost:8080/",
          "height": 292
        }
      },
      "source": [
        "# encode string data\n",
        "le = LabelEncoder()\n",
        "le.fit_transform(df_cox[['sex']].values)\n",
        "sex_dict = dict(zip(le.classes_, le.transform(le.classes_)))\n",
        "print(sex_dict)\n",
        "le.fit_transform(df_cox[['age']].values)\n",
        "age_dict = dict(zip(le.classes_, le.transform(le.classes_)))\n",
        "print(age_dict)\n",
        "\n",
        "df_encode = df_cox[['sex', 'age']].apply(le.fit_transform)\n",
        "df_cox = pd.concat([df_cox[[\"timeline\",\"event\"]], df_encode], axis=1)\n",
        "df_cox.head()"
      ],
      "execution_count": 21,
      "outputs": [
        {
          "output_type": "stream",
          "text": [
            "{'female': 0, 'male': 1}\n",
            "{'0s': 0, '100s': 1, '10s': 2, '20s': 3, '30s': 4, '40s': 5, '50s': 6, '60s': 7, '70s': 8, '80s': 9, '90s': 10}\n"
          ],
          "name": "stdout"
        },
        {
          "output_type": "stream",
          "text": [
            "/usr/local/lib/python3.6/dist-packages/sklearn/preprocessing/_label.py:251: DataConversionWarning: A column-vector y was passed when a 1d array was expected. Please change the shape of y to (n_samples, ), for example using ravel().\n",
            "  y = column_or_1d(y, warn=True)\n"
          ],
          "name": "stderr"
        },
        {
          "output_type": "execute_result",
          "data": {
            "text/html": [
              "<div>\n",
              "<style scoped>\n",
              "    .dataframe tbody tr th:only-of-type {\n",
              "        vertical-align: middle;\n",
              "    }\n",
              "\n",
              "    .dataframe tbody tr th {\n",
              "        vertical-align: top;\n",
              "    }\n",
              "\n",
              "    .dataframe thead th {\n",
              "        text-align: right;\n",
              "    }\n",
              "</style>\n",
              "<table border=\"1\" class=\"dataframe\">\n",
              "  <thead>\n",
              "    <tr style=\"text-align: right;\">\n",
              "      <th></th>\n",
              "      <th>timeline</th>\n",
              "      <th>event</th>\n",
              "      <th>sex</th>\n",
              "      <th>age</th>\n",
              "    </tr>\n",
              "  </thead>\n",
              "  <tbody>\n",
              "    <tr>\n",
              "      <th>0</th>\n",
              "      <td>13.0</td>\n",
              "      <td>1</td>\n",
              "      <td>1</td>\n",
              "      <td>6</td>\n",
              "    </tr>\n",
              "    <tr>\n",
              "      <th>1</th>\n",
              "      <td>32.0</td>\n",
              "      <td>1</td>\n",
              "      <td>1</td>\n",
              "      <td>4</td>\n",
              "    </tr>\n",
              "    <tr>\n",
              "      <th>2</th>\n",
              "      <td>20.0</td>\n",
              "      <td>1</td>\n",
              "      <td>1</td>\n",
              "      <td>6</td>\n",
              "    </tr>\n",
              "    <tr>\n",
              "      <th>3</th>\n",
              "      <td>16.0</td>\n",
              "      <td>1</td>\n",
              "      <td>1</td>\n",
              "      <td>3</td>\n",
              "    </tr>\n",
              "    <tr>\n",
              "      <th>4</th>\n",
              "      <td>24.0</td>\n",
              "      <td>1</td>\n",
              "      <td>0</td>\n",
              "      <td>3</td>\n",
              "    </tr>\n",
              "  </tbody>\n",
              "</table>\n",
              "</div>"
            ],
            "text/plain": [
              "   timeline  event  sex  age\n",
              "0      13.0      1    1    6\n",
              "1      32.0      1    1    4\n",
              "2      20.0      1    1    6\n",
              "3      16.0      1    1    3\n",
              "4      24.0      1    0    3"
            ]
          },
          "metadata": {
            "tags": []
          },
          "execution_count": 21
        }
      ]
    },
    {
      "cell_type": "code",
      "metadata": {
        "id": "_G1fF3tb9iDx",
        "outputId": "135a452b-0dfb-4ba7-baea-c73704767743",
        "colab": {
          "base_uri": "https://localhost:8080/",
          "height": 517
        }
      },
      "source": [
        "cph = CoxPHFitter()\n",
        "cph.fit(df_cox, duration_col='timeline', event_col='event')\n",
        "cph.print_summary() "
      ],
      "execution_count": 22,
      "outputs": [
        {
          "output_type": "display_data",
          "data": {
            "text/latex": "\\begin{tabular}{lrrrrrrrrrr}\n\\toprule\n{} &  coef &  exp(coef) &  se(coef) &  coef lower 95\\% &  coef upper 95\\% &  exp(coef) lower 95\\% &  exp(coef) upper 95\\% &     z &    p &  -log2(p) \\\\\ncovariate &       &            &           &                 &                 &                      &                      &       &      &           \\\\\n\\midrule\nsex       & -0.04 &       0.97 &      0.05 &           -0.13 &            0.06 &                 0.87 &                 1.06 & -0.71 & 0.48 &      1.06 \\\\\nage       & -0.06 &       0.94 &      0.01 &           -0.08 &           -0.03 &                 0.92 &                 0.97 & -4.83 & 0.00 &     19.50 \\\\\n\\bottomrule\n\\end{tabular}\n",
            "text/html": [
              "<div>\n",
              "<style scoped>\n",
              "    .dataframe tbody tr th:only-of-type {\n",
              "        vertical-align: middle;\n",
              "    }\n",
              "\n",
              "    .dataframe tbody tr th {\n",
              "        vertical-align: top;\n",
              "    }\n",
              "\n",
              "    .dataframe thead th {\n",
              "        text-align: right;\n",
              "    }\n",
              "</style>\n",
              "<table border=\"1\" class=\"dataframe\">\n",
              "  <tbody>\n",
              "    <tr>\n",
              "      <th>model</th>\n",
              "      <td>lifelines.CoxPHFitter</td>\n",
              "    </tr>\n",
              "    <tr>\n",
              "      <th>duration col</th>\n",
              "      <td>'timeline'</td>\n",
              "    </tr>\n",
              "    <tr>\n",
              "      <th>event col</th>\n",
              "      <td>'event'</td>\n",
              "    </tr>\n",
              "    <tr>\n",
              "      <th>baseline estimation</th>\n",
              "      <td>breslow</td>\n",
              "    </tr>\n",
              "    <tr>\n",
              "      <th>number of observations</th>\n",
              "      <td>1638</td>\n",
              "    </tr>\n",
              "    <tr>\n",
              "      <th>number of events observed</th>\n",
              "      <td>1633</td>\n",
              "    </tr>\n",
              "    <tr>\n",
              "      <th>partial log-likelihood</th>\n",
              "      <td>-10445.37</td>\n",
              "    </tr>\n",
              "    <tr>\n",
              "      <th>time fit was run</th>\n",
              "      <td>2020-10-04 01:23:23 UTC</td>\n",
              "    </tr>\n",
              "  </tbody>\n",
              "</table>\n",
              "</div><table border=\"1\" class=\"dataframe\">\n",
              "  <thead>\n",
              "    <tr style=\"text-align: right;\">\n",
              "      <th style=\"min-width: 12px;\"></th>\n",
              "      <th style=\"min-width: 12px;\">coef</th>\n",
              "      <th style=\"min-width: 12px;\">exp(coef)</th>\n",
              "      <th style=\"min-width: 12px;\">se(coef)</th>\n",
              "      <th style=\"min-width: 12px;\">coef lower 95%</th>\n",
              "      <th style=\"min-width: 12px;\">coef upper 95%</th>\n",
              "      <th style=\"min-width: 12px;\">exp(coef) lower 95%</th>\n",
              "      <th style=\"min-width: 12px;\">exp(coef) upper 95%</th>\n",
              "      <th style=\"min-width: 12px;\">z</th>\n",
              "      <th style=\"min-width: 12px;\">p</th>\n",
              "      <th style=\"min-width: 12px;\">-log2(p)</th>\n",
              "    </tr>\n",
              "  </thead>\n",
              "  <tbody>\n",
              "    <tr>\n",
              "      <th>sex</th>\n",
              "      <td>-0.04</td>\n",
              "      <td>0.97</td>\n",
              "      <td>0.05</td>\n",
              "      <td>-0.13</td>\n",
              "      <td>0.06</td>\n",
              "      <td>0.87</td>\n",
              "      <td>1.06</td>\n",
              "      <td>-0.71</td>\n",
              "      <td>0.48</td>\n",
              "      <td>1.06</td>\n",
              "    </tr>\n",
              "    <tr>\n",
              "      <th>age</th>\n",
              "      <td>-0.06</td>\n",
              "      <td>0.94</td>\n",
              "      <td>0.01</td>\n",
              "      <td>-0.08</td>\n",
              "      <td>-0.03</td>\n",
              "      <td>0.92</td>\n",
              "      <td>0.97</td>\n",
              "      <td>-4.83</td>\n",
              "      <td>&lt;0.005</td>\n",
              "      <td>19.50</td>\n",
              "    </tr>\n",
              "  </tbody>\n",
              "</table><br><div>\n",
              "<style scoped>\n",
              "    .dataframe tbody tr th:only-of-type {\n",
              "        vertical-align: middle;\n",
              "    }\n",
              "\n",
              "    .dataframe tbody tr th {\n",
              "        vertical-align: top;\n",
              "    }\n",
              "\n",
              "    .dataframe thead th {\n",
              "        text-align: right;\n",
              "    }\n",
              "</style>\n",
              "<table border=\"1\" class=\"dataframe\">\n",
              "  <tbody>\n",
              "    <tr>\n",
              "      <th>Concordance</th>\n",
              "      <td>0.53</td>\n",
              "    </tr>\n",
              "    <tr>\n",
              "      <th>Partial AIC</th>\n",
              "      <td>20894.74</td>\n",
              "    </tr>\n",
              "    <tr>\n",
              "      <th>log-likelihood ratio test</th>\n",
              "      <td>23.51 on 2 df</td>\n",
              "    </tr>\n",
              "    <tr>\n",
              "      <th>-log2(p) of ll-ratio test</th>\n",
              "      <td>16.96</td>\n",
              "    </tr>\n",
              "  </tbody>\n",
              "</table>\n",
              "</div>"
            ],
            "text/plain": [
              "<lifelines.CoxPHFitter: fitted with 1638 total observations, 5 right-censored observations>\n",
              "             duration col = 'timeline'\n",
              "                event col = 'event'\n",
              "      baseline estimation = breslow\n",
              "   number of observations = 1638\n",
              "number of events observed = 1633\n",
              "   partial log-likelihood = -10445.37\n",
              "         time fit was run = 2020-10-04 01:23:23 UTC\n",
              "\n",
              "---\n",
              "            coef  exp(coef)   se(coef)   coef lower 95%   coef upper 95%  exp(coef) lower 95%  exp(coef) upper 95%\n",
              "covariate                                                                                                         \n",
              "sex        -0.04       0.97       0.05            -0.13             0.06                 0.87                 1.06\n",
              "age        -0.06       0.94       0.01            -0.08            -0.03                 0.92                 0.97\n",
              "\n",
              "              z      p   -log2(p)\n",
              "covariate                        \n",
              "sex       -0.71   0.48       1.06\n",
              "age       -4.83 <0.005      19.50\n",
              "---\n",
              "Concordance = 0.53\n",
              "Partial AIC = 20894.74\n",
              "log-likelihood ratio test = 23.51 on 2 df\n",
              "-log2(p) of ll-ratio test = 16.96"
            ]
          },
          "metadata": {
            "tags": []
          }
        }
      ]
    },
    {
      "cell_type": "code",
      "metadata": {
        "id": "2vw34NDU50O7",
        "outputId": "23135159-0521-48cf-f062-c4525304b806",
        "colab": {
          "base_uri": "https://localhost:8080/",
          "height": 296
        }
      },
      "source": [
        "cph.plot()"
      ],
      "execution_count": 23,
      "outputs": [
        {
          "output_type": "execute_result",
          "data": {
            "text/plain": [
              "<matplotlib.axes._subplots.AxesSubplot at 0x7f8c08ae2f60>"
            ]
          },
          "metadata": {
            "tags": []
          },
          "execution_count": 23
        },
        {
          "output_type": "display_data",
          "data": {
            "image/png": "[encoded data removed]",
            "text/plain": [
              "<Figure size 432x288 with 1 Axes>"
            ]
          },
          "metadata": {
            "tags": [],
            "needs_background": "light"
          }
        }
      ]
    },
    {
      "cell_type": "code",
      "metadata": {
        "id": "Zf7CH4EsJJE3",
        "outputId": "37f8e282-f9e3-4b01-babc-3ff222a8a3d7",
        "colab": {
          "base_uri": "https://localhost:8080/",
          "height": 312
        }
      },
      "source": [
        "cph.predict_survival_function(df_cox).plot(legend=None)\n",
        "plt.xlabel(\"Timeline (days)\")\n",
        "plt.ylabel(\"Probability event has not occurred\")\n",
        "plt.title(\"Cox: Individual survival\")\n"
      ],
      "execution_count": 24,
      "outputs": [
        {
          "output_type": "execute_result",
          "data": {
            "text/plain": [
              "Text(0.5, 1.0, 'Cox: Individual survival')"
            ]
          },
          "metadata": {
            "tags": []
          },
          "execution_count": 24
        },
        {
          "output_type": "display_data",
          "data": {
            "image/png": "[encoded data removed]",
            "text/plain": [
              "<Figure size 432x288 with 1 Axes>"
            ]
          },
          "metadata": {
            "tags": [],
            "needs_background": "light"
          }
        }
      ]
    },
    {
      "cell_type": "code",
      "metadata": {
        "id": "OZWjlf_AVBjG",
        "outputId": "bd83e481-d1ec-4b09-b15b-e91d9c60229a",
        "colab": {
          "base_uri": "https://localhost:8080/",
          "height": 312
        }
      },
      "source": [
        "cph.plot_partial_effects_on_outcome(covariates=\"age\", values=list(age_dict.values()), cmap='coolwarm')\n",
        "# plt.legend(loc='upper right', bbox_to_anchor=(1.25,1.0))\n",
        "age_dict_list_baseline = list(age_dict.keys()) + [\"baseline\"]\n",
        "plt.legend(labels=age_dict_list_baseline)\n",
        "\n",
        "plt.xlabel(\"Timeline (days)\")\n",
        "# plt.ylabel(\"Probability event has not occurred\")\n",
        "plt.title(\"Cox: survival analysis by age\")"
      ],
      "execution_count": 25,
      "outputs": [
        {
          "output_type": "execute_result",
          "data": {
            "text/plain": [
              "Text(0.5, 1.0, 'Cox: survival analysis by age')"
            ]
          },
          "metadata": {
            "tags": []
          },
          "execution_count": 25
        },
        {
          "output_type": "display_data",
          "data": {
            "image/png": "[encoded data removed]",
            "text/plain": [
              "<Figure size 432x288 with 1 Axes>"
            ]
          },
          "metadata": {
            "tags": [],
            "needs_background": "light"
          }
        }
      ]
    },
    {
      "cell_type": "code",
      "metadata": {
        "id": "GK1kO8RgOn1X",
        "outputId": "47ebdcbb-a514-4ec2-bb29-34132379e185",
        "colab": {
          "base_uri": "https://localhost:8080/",
          "height": 312
        }
      },
      "source": [
        "cph.plot_partial_effects_on_outcome(covariates=\"sex\", values=list(sex_dict.values()), cmap='coolwarm')\n",
        "sex_dict_list_baseline = list(sex_dict.keys()) + [\"baseline\"]\n",
        "plt.legend(labels=sex_dict_list_baseline)\n",
        "\n",
        "plt.xlabel(\"Timeline (days)\")\n",
        "# plt.ylabel(\"Probability event has not occurred\")\n",
        "plt.title(\"Cox: survival analysis by age\")"
      ],
      "execution_count": 26,
      "outputs": [
        {
          "output_type": "execute_result",
          "data": {
            "text/plain": [
              "Text(0.5, 1.0, 'Cox: survival analysis by age')"
            ]
          },
          "metadata": {
            "tags": []
          },
          "execution_count": 26
        },
        {
          "output_type": "display_data",
          "data": {
            "image/png": "[encoded data removed]",
            "text/plain": [
              "<Figure size 432x288 with 1 Axes>"
            ]
          },
          "metadata": {
            "tags": [],
            "needs_background": "light"
          }
        }
      ]
    },
    {
      "cell_type": "markdown",
      "metadata": {
        "id": "TFstLw2sVe2T"
      },
      "source": [
        "### prediction"
      ]
    },
    {
      "cell_type": "code",
      "metadata": {
        "id": "ucpvAT1QS9Fj",
        "outputId": "70ab63ac-6b1f-49c5-fd3b-3c76261fc731",
        "colab": {
          "base_uri": "https://localhost:8080/",
          "height": 204
        }
      },
      "source": [
        "age_dict"
      ],
      "execution_count": 27,
      "outputs": [
        {
          "output_type": "execute_result",
          "data": {
            "text/plain": [
              "{'0s': 0,\n",
              " '100s': 1,\n",
              " '10s': 2,\n",
              " '20s': 3,\n",
              " '30s': 4,\n",
              " '40s': 5,\n",
              " '50s': 6,\n",
              " '60s': 7,\n",
              " '70s': 8,\n",
              " '80s': 9,\n",
              " '90s': 10}"
            ]
          },
          "metadata": {
            "tags": []
          },
          "execution_count": 27
        }
      ]
    },
    {
      "cell_type": "code",
      "metadata": {
        "id": "2r-9zrGXEQ1Z",
        "outputId": "4c52f88b-5885-4383-c9a4-039c282dafd2",
        "colab": {
          "base_uri": "https://localhost:8080/",
          "height": 312
        }
      },
      "source": [
        "import matplotlib.patches as mpatches\n",
        "# predict specific case \n",
        "case1 = df_cox.loc[(df_cox['sex']==0) & ((df_cox['age']==4))]\n",
        "case2 = df_cox.loc[(df_cox['sex']==1) & ((df_cox['age']==0))]\n",
        "# case3 = df_cox.loc[(df_cox['sex']==0) & ((df_cox['age']==0))]\n",
        "\n",
        "ax = plt.subplot(1,1,1)\n",
        "cph.predict_survival_function(case1).plot(ax=ax, color=\"blue\", legend=None)\n",
        "blue_patch = mpatches.Patch(color='blue', label='female_30s')\n",
        "cph.predict_survival_function(case2).plot(ax=ax, color=\"red\", legend=None)\n",
        "red_patch = mpatches.Patch(color='red', label='male_0s')\n",
        "plt.legend(handles=[blue_patch, red_patch])\n",
        "\n",
        "plt.xlabel(\"Timeline (days)\")\n",
        "plt.title(\"Prediction of survival probabilities using selected cases\")"
      ],
      "execution_count": 28,
      "outputs": [
        {
          "output_type": "execute_result",
          "data": {
            "text/plain": [
              "Text(0.5, 1.0, 'Prediction of survival probabilities using selected cases')"
            ]
          },
          "metadata": {
            "tags": []
          },
          "execution_count": 28
        },
        {
          "output_type": "display_data",
          "data": {
            "image/png": "[encoded data removed]",
            "text/plain": [
              "<Figure size 432x288 with 1 Axes>"
            ]
          },
          "metadata": {
            "tags": [],
            "needs_background": "light"
          }
        }
      ]
    },
    {
      "cell_type": "code",
      "metadata": {
        "id": "17w-TS3cUkFX",
        "outputId": "47021a7f-7a1d-425a-9c74-9b57526becbe",
        "colab": {
          "base_uri": "https://localhost:8080/",
          "height": 34
        }
      },
      "source": [
        "96# # predict specific case\n",
        "# ix = (df_dummy['sex_male']==0) & ((df_dummy['age_30s']==1))\n",
        "# case1 = df_dummy.loc[ix]\n",
        "# ix = (df_dummy['sex_male']==0) & ((df_dummy['age_100s']==1))\n",
        "# case2 = df_dummy.loc[ix]\n",
        "\n",
        "# ax = plt.subplot(2,1,1)\n",
        "# cph.predict_cumulative_hazard(case1).plot(ax=ax, legend=None)\n",
        "# cph.predict_cumulative_hazard(case2).plot(ax=ax, legend=\"case2\")\n",
        "\n",
        "# ax = plt.subplot(2,1,2)\n",
        "# cph.predict_survival_function(case1).plot(ax=ax, legend=None)\n",
        "# cph.predict_survival_function(case2).plot(ax=ax, legend=None)"
      ],
      "execution_count": 29,
      "outputs": [
        {
          "output_type": "execute_result",
          "data": {
            "text/plain": [
              "96"
            ]
          },
          "metadata": {
            "tags": []
          },
          "execution_count": 29
        }
      ]
    },
    {
      "cell_type": "code",
      "metadata": {
        "id": "K4lkSEEjWk4O"
      },
      "source": [
        ""
      ],
      "execution_count": 29,
      "outputs": []
    },
    {
      "cell_type": "markdown",
      "metadata": {
        "id": "VNKGvvHXsRQV"
      },
      "source": [
        "# Bayesian proportional hazard model"
      ]
    },
    {
      "cell_type": "code",
      "metadata": {
        "id": "5HiDG64aQx1i",
        "outputId": "433371bf-8c54-4b3d-ed0f-c0524d7da394",
        "colab": {
          "base_uri": "https://localhost:8080/",
          "height": 68
        }
      },
      "source": [
        "# try only 1000 samples due to memory problems (to be fixed)\n",
        "dfb = process_data(df_patient.head(1000))\n",
        "n_patients = dfb.shape[0]\n",
        "patients = np.arange(n_patients)\n",
        "print (n_patients)\n",
        "print (dfb.event.mean())"
      ],
      "execution_count": 30,
      "outputs": [
        {
          "output_type": "stream",
          "text": [
            "time min:3.0, max:32.0\n",
            "54\n",
            "1.0\n"
          ],
          "name": "stdout"
        }
      ]
    },
    {
      "cell_type": "code",
      "metadata": {
        "id": "9IK4Yl5LJhuD"
      },
      "source": [
        "SEED = 644567 # from random.org\n",
        "n_samples = 5000\n",
        "n_tune = 1000"
      ],
      "execution_count": 31,
      "outputs": []
    },
    {
      "cell_type": "code",
      "metadata": {
        "id": "D846AUpLrp9P"
      },
      "source": [
        "interval_length = 3\n",
        "interval_bounds = np.arange(0, dfb.timeline.max() + interval_length + 1, interval_length)\n",
        "n_intervals = interval_bounds.size - 1\n",
        "intervals = np.arange(n_intervals)"
      ],
      "execution_count": 32,
      "outputs": []
    },
    {
      "cell_type": "code",
      "metadata": {
        "id": "0CLj_J9osYTO",
        "outputId": "2402689a-6f28-43c6-916b-eb0eaf1ac9ca",
        "colab": {
          "base_uri": "https://localhost:8080/",
          "height": 34
        }
      },
      "source": [
        "last_period = np.floor((dfb.timeline - 0.01) / interval_length).astype(int)\n",
        "death = np.zeros((n_patients, n_intervals))\n",
        "death[patients, last_period] = dfb.event\n",
        "exposure = np.greater_equal.outer(dfb.timeline.values, interval_bounds[:-1]) * interval_length\n",
        "exposure[patients, last_period] = dfb.timeline - interval_bounds[last_period]\n",
        "len(exposure)"
      ],
      "execution_count": 33,
      "outputs": [
        {
          "output_type": "execute_result",
          "data": {
            "text/plain": [
              "54"
            ]
          },
          "metadata": {
            "tags": []
          },
          "execution_count": 33
        }
      ]
    },
    {
      "cell_type": "code",
      "metadata": {
        "id": "bYbI7aELAlLC",
        "outputId": "a09f3c2a-7997-4e7a-c483-c7c86c055241",
        "colab": {
          "base_uri": "https://localhost:8080/",
          "height": 230
        }
      },
      "source": [
        "with pm.Model() as model:\n",
        "\n",
        "    lambda0 = pm.Gamma('lambda0', 0.01, 0.01, shape=n_intervals)\n",
        "    beta = pm.Normal('beta', 0, sigma=1000)\n",
        "\n",
        "    # lambda_ = pm.Deterministic('lambda_', T.outer(T.exp(beta), lambda0))\n",
        "    lambda_ = pm.Deterministic('lambda_', T.outer(T.exp(beta * dfb.death), lambda0))\n",
        "    mu = pm.Deterministic('mu', exposure * lambda_)\n",
        "\n",
        "    obs = pm.Poisson('obs', mu, observed=death)\n",
        "\n",
        "    trace = pm.sample(n_samples, tune=n_tune, random_seed=SEED)"
      ],
      "execution_count": 34,
      "outputs": [
        {
          "output_type": "stream",
          "text": [
            "Auto-assigning NUTS sampler...\n",
            "Initializing NUTS using jitter+adapt_diag...\n",
            "WARNING (theano.tensor.blas): We did not find a dynamic library in the library_dir of the library we use for blas. If you use ATLAS, make sure to compile it with dynamics library.\n",
            "Sequential sampling (2 chains in 1 job)\n",
            "NUTS: [beta, lambda0]\n"
          ],
          "name": "stderr"
        },
        {
          "output_type": "display_data",
          "data": {
            "text/html": [
              "\n",
              "    <div>\n",
              "        <style>\n",
              "            /* Turns off some styling */\n",
              "            progress {\n",
              "                /* gets rid of default border in Firefox and Opera. */\n",
              "                border: none;\n",
              "                /* Needs to be in here for Safari polyfill so background images work as expected. */\n",
              "                background-size: auto;\n",
              "            }\n",
              "            .progress-bar-interrupted, .progress-bar-interrupted::-webkit-progress-bar {\n",
              "                background: #F44336;\n",
              "            }\n",
              "        </style>\n",
              "      <progress value='6000' class='' max='6000' style='width:300px; height:20px; vertical-align: middle;'></progress>\n",
              "      100.00% [6000/6000 00:09<00:00 Sampling chain 0, 3,330 divergences]\n",
              "    </div>\n",
              "    "
            ],
            "text/plain": [
              "<IPython.core.display.HTML object>"
            ]
          },
          "metadata": {
            "tags": []
          }
        },
        {
          "output_type": "display_data",
          "data": {
            "text/html": [
              "\n",
              "    <div>\n",
              "        <style>\n",
              "            /* Turns off some styling */\n",
              "            progress {\n",
              "                /* gets rid of default border in Firefox and Opera. */\n",
              "                border: none;\n",
              "                /* Needs to be in here for Safari polyfill so background images work as expected. */\n",
              "                background-size: auto;\n",
              "            }\n",
              "            .progress-bar-interrupted, .progress-bar-interrupted::-webkit-progress-bar {\n",
              "                background: #F44336;\n",
              "            }\n",
              "        </style>\n",
              "      <progress value='6000' class='' max='6000' style='width:300px; height:20px; vertical-align: middle;'></progress>\n",
              "      100.00% [6000/6000 00:08<00:00 Sampling chain 1, 4,804 divergences]\n",
              "    </div>\n",
              "    "
            ],
            "text/plain": [
              "<IPython.core.display.HTML object>"
            ]
          },
          "metadata": {
            "tags": []
          }
        },
        {
          "output_type": "stream",
          "text": [
            "Sampling 2 chains for 1_000 tune and 5_000 draw iterations (2_000 + 10_000 draws total) took 18 seconds.\n",
            "There were 3330 divergences after tuning. Increase `target_accept` or reparameterize.\n",
            "There were 8135 divergences after tuning. Increase `target_accept` or reparameterize.\n",
            "The number of effective samples is smaller than 10% for some parameters.\n"
          ],
          "name": "stderr"
        }
      ]
    },
    {
      "cell_type": "code",
      "metadata": {
        "id": "CGUsYlSKr1fk",
        "outputId": "68eb14a0-a263-46d7-c0f7-46fbd7f8d167",
        "colab": {
          "base_uri": "https://localhost:8080/",
          "height": 34
        }
      },
      "source": [
        "np.exp(trace['beta'].mean())"
      ],
      "execution_count": 35,
      "outputs": [
        {
          "output_type": "execute_result",
          "data": {
            "text/plain": [
              "6.969345670451419e-06"
            ]
          },
          "metadata": {
            "tags": []
          },
          "execution_count": 35
        }
      ]
    },
    {
      "cell_type": "code",
      "metadata": {
        "id": "MDfP7j5wr68z",
        "outputId": "a647648b-c7a5-49ae-952e-3505e40d1485",
        "colab": {
          "base_uri": "https://localhost:8080/",
          "height": 367
        }
      },
      "source": [
        "pm.plot_posterior(trace, var_names=['beta'], color='#87ceeb');"
      ],
      "execution_count": 36,
      "outputs": [
        {
          "output_type": "stream",
          "text": [
            "/usr/local/lib/python3.6/dist-packages/arviz/data/io_pymc3.py:91: FutureWarning: Using `from_pymc3` without the model will be deprecated in a future release. Not using the model will return less accurate and less useful results. Make sure you use the model argument or call from_pymc3 within a model context.\n",
            "  FutureWarning,\n"
          ],
          "name": "stderr"
        },
        {
          "output_type": "display_data",
          "data": {
            "image/png": "[encoded data removed]",
            "text/plain": [
              "<Figure size 432x288 with 1 Axes>"
            ]
          },
          "metadata": {
            "tags": [],
            "needs_background": "light"
          }
        }
      ]
    },
    {
      "cell_type": "code",
      "metadata": {
        "id": "sUROd6zhr9wY",
        "outputId": "8d71a4ec-2c3f-4cb6-d02b-48a764241e42",
        "colab": {
          "base_uri": "https://localhost:8080/",
          "height": 398
        }
      },
      "source": [
        "pm.autocorrplot(trace, var_names=['beta']);"
      ],
      "execution_count": 37,
      "outputs": [
        {
          "output_type": "stream",
          "text": [
            "/usr/local/lib/python3.6/dist-packages/arviz/data/io_pymc3.py:91: FutureWarning: Using `from_pymc3` without the model will be deprecated in a future release. Not using the model will return less accurate and less useful results. Make sure you use the model argument or call from_pymc3 within a model context.\n",
            "  FutureWarning,\n"
          ],
          "name": "stderr"
        },
        {
          "output_type": "display_data",
          "data": {
            "image/png": "[encoded data removed]",
            "text/plain": [
              "<Figure size 993.6x331.2 with 2 Axes>"
            ]
          },
          "metadata": {
            "tags": [],
            "needs_background": "light"
          }
        }
      ]
    },
    {
      "cell_type": "code",
      "metadata": {
        "id": "UV6gipwCr_UE"
      },
      "source": [
        "base_hazard = trace['lambda0']\n",
        "death_hazard = trace['lambda0'] * np.exp(np.atleast_2d(trace['beta']).T)"
      ],
      "execution_count": 38,
      "outputs": []
    },
    {
      "cell_type": "code",
      "metadata": {
        "id": "rMb2OARssD2H"
      },
      "source": [
        "def cum_hazard(hazard):\n",
        "    return (interval_length * hazard).cumsum(axis=-1)\n",
        "\n",
        "def survival(hazard):\n",
        "    return np.exp(-cum_hazard(hazard))"
      ],
      "execution_count": 39,
      "outputs": []
    },
    {
      "cell_type": "code",
      "metadata": {
        "id": "N452VMNMsHqh"
      },
      "source": [
        "def plot_with_hpd(x, hazard, f, ax, color=None, label=None, alpha=0.05):\n",
        "    mean = f(hazard.mean(axis=0))\n",
        "\n",
        "    percentiles = 100 * np.array([alpha / 2., 1. - alpha / 2.])\n",
        "    hpd = np.percentile(f(hazard), percentiles, axis=0)\n",
        "\n",
        "    ax.fill_between(x, hpd[0], hpd[1], color=color, alpha=0.25)\n",
        "    ax.step(x, mean, color=color, label=label);"
      ],
      "execution_count": 40,
      "outputs": []
    },
    {
      "cell_type": "code",
      "metadata": {
        "id": "IQSe_noJsHzx",
        "outputId": "e4051e0d-c15b-4f2d-c4b0-fa7ba88472e3",
        "colab": {
          "base_uri": "https://localhost:8080/",
          "height": 431
        }
      },
      "source": [
        "fig, (hazard_ax, surv_ax) = plt.subplots(ncols=2, sharex=True, sharey=False, figsize=(16, 6))\n",
        "\n",
        "plot_with_hpd(interval_bounds[:-1], base_hazard, cum_hazard, hazard_ax, color=blue, label='Had not passed away')\n",
        "plot_with_hpd(interval_bounds[:-1], death_hazard, cum_hazard, hazard_ax, color=red, label='Passed away')\n",
        "\n",
        "hazard_ax.set_xlim(0, dfb.timeline.max());\n",
        "hazard_ax.set_xlabel('Days since infected confirmation');\n",
        "hazard_ax.set_ylabel(r'Cumulative hazard $\\Lambda(t)$');\n",
        "hazard_ax.legend(loc=2);\n",
        "plot_with_hpd(interval_bounds[:-1], base_hazard, survival, surv_ax, color=blue)\n",
        "plot_with_hpd(interval_bounds[:-1], death_hazard, survival, surv_ax, color=red)\n",
        "surv_ax.set_xlim(0, dfb.timeline.max());\n",
        "surv_ax.set_xlabel('Days since infected confirmation');\n",
        "surv_ax.set_ylabel('Survival function $S(t)$');\n",
        "fig.suptitle('Bayesian Survival Model');"
      ],
      "execution_count": 41,
      "outputs": [
        {
          "output_type": "display_data",
          "data": {
            "image/png": "[encoded data removed]",
            "text/plain": [
              "<Figure size 1152x432 with 2 Axes>"
            ]
          },
          "metadata": {
            "tags": [],
            "needs_background": "light"
          }
        }
      ]
    },
    {
      "cell_type": "code",
      "metadata": {
        "id": "tN3waROZsH6j"
      },
      "source": [
        ""
      ],
      "execution_count": 41,
      "outputs": []
    }
  ]
}