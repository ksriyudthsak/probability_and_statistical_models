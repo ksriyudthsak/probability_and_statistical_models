{
  "nbformat": 4,
  "nbformat_minor": 0,
  "metadata": {
    "colab": {
      "name": "causal_bayesian_network.ipynb",
      "provenance": [],
      "collapsed_sections": []
    },
    "kernelspec": {
      "name": "python3",
      "display_name": "Python 3"
    }
  },
  "cells": [
    {
      "cell_type": "markdown",
      "metadata": {
        "id": "Vpf-tgULlAjv",
        "colab_type": "text"
      },
      "source": [
        "# Preperation"
      ]
    },
    {
      "cell_type": "markdown",
      "metadata": {
        "id": "0qH0KpD6WPgS",
        "colab_type": "text"
      },
      "source": [
        "covid19 open data (Japan)：https://www.mhlw.go.jp/stf/covid-19/open-data.html\n"
      ]
    },
    {
      "cell_type": "code",
      "metadata": {
        "id": "Io2FEasGWQr4",
        "colab_type": "code",
        "colab": {
          "base_uri": "https://localhost:8080/",
          "height": 578
        },
        "outputId": "f6700241-3de6-4e70-b004-247f4757dd99"
      },
      "source": [
        "# Download and unzip\n",
        "!wget -O positive_cases.csv https://www.mhlw.go.jp/content/pcr_positive_daily.csv\n",
        "!wget -O pcr_tested.csv https://www.mhlw.go.jp/content/pcr_tested_daily.csv\n",
        "!wget -O death_total.csv https://www.mhlw.go.jp/content/death_total.csv"
      ],
      "execution_count": 1,
      "outputs": [
        {
          "output_type": "stream",
          "text": [
            "--2020-10-04 01:23:26--  https://www.mhlw.go.jp/content/pcr_positive_daily.csv\n",
            "Resolving www.mhlw.go.jp (www.mhlw.go.jp)... 23.12.193.116, 2600:1417:76:488::3194, 2600:1417:76:49f::3194\n",
            "Connecting to www.mhlw.go.jp (www.mhlw.go.jp)|23.12.193.116|:443... connected.\n",
            "HTTP request sent, awaiting response... 200 OK\n",
            "Length: 3745 (3.7K) [text/csv]\n",
            "Saving to: ‘positive_cases.csv’\n",
            "\n",
            "\rpositive_cases.csv    0%[                    ]       0  --.-KB/s               \rpositive_cases.csv  100%[===================>]   3.66K  --.-KB/s    in 0s      \n",
            "\n",
            "2020-10-04 01:23:26 (84.7 MB/s) - ‘positive_cases.csv’ saved [3745/3745]\n",
            "\n",
            "--2020-10-04 01:23:26--  https://www.mhlw.go.jp/content/pcr_tested_daily.csv\n",
            "Resolving www.mhlw.go.jp (www.mhlw.go.jp)... 23.12.193.116, 2600:1417:76:488::3194, 2600:1417:76:49f::3194\n",
            "Connecting to www.mhlw.go.jp (www.mhlw.go.jp)|23.12.193.116|:443... connected.\n",
            "HTTP request sent, awaiting response... 200 OK\n",
            "Length: 3770 (3.7K) [text/csv]\n",
            "Saving to: ‘pcr_tested.csv’\n",
            "\n",
            "pcr_tested.csv      100%[===================>]   3.68K  --.-KB/s    in 0s      \n",
            "\n",
            "2020-10-04 01:23:26 (89.7 MB/s) - ‘pcr_tested.csv’ saved [3770/3770]\n",
            "\n",
            "--2020-10-04 01:23:26--  https://www.mhlw.go.jp/content/death_total.csv\n",
            "Resolving www.mhlw.go.jp (www.mhlw.go.jp)... 23.12.193.116, 2600:1417:76:488::3194, 2600:1417:76:49f::3194\n",
            "Connecting to www.mhlw.go.jp (www.mhlw.go.jp)|23.12.193.116|:443... connected.\n",
            "HTTP request sent, awaiting response... 200 OK\n",
            "Length: 3423 (3.3K) [text/csv]\n",
            "Saving to: ‘death_total.csv’\n",
            "\n",
            "death_total.csv     100%[===================>]   3.34K  --.-KB/s    in 0s      \n",
            "\n",
            "2020-10-04 01:23:26 (61.5 MB/s) - ‘death_total.csv’ saved [3423/3423]\n",
            "\n"
          ],
          "name": "stdout"
        }
      ]
    },
    {
      "cell_type": "code",
      "metadata": {
        "id": "RaKL0XW7x36y",
        "colab_type": "code",
        "colab": {
          "base_uri": "https://localhost:8080/",
          "height": 1000
        },
        "outputId": "f65f74d4-9f20-4220-acb8-8921a77cc161"
      },
      "source": [
        "# install modules\n",
        "# https://causalinferenceinpython.org/\n",
        "!pip install causalgraphicalmodels\n",
        "# https://pypi.org/project/CausalInference/\n",
        "!pip install causalinference\n",
        "!pip install --upgrade pymc3\n",
        "!pip install arviz"
      ],
      "execution_count": 2,
      "outputs": [
        {
          "output_type": "stream",
          "text": [
            "Collecting causalgraphicalmodels\n",
            "  Downloading https://files.pythonhosted.org/packages/c8/ee/3b2d184576f3cb4873cebfc696e8e5c1e53eaef691f38aea76c206f9f916/causalgraphicalmodels-0.0.4-py3-none-any.whl\n",
            "Requirement already satisfied: graphviz in /usr/local/lib/python3.6/dist-packages (from causalgraphicalmodels) (0.10.1)\n",
            "Requirement already satisfied: pandas in /usr/local/lib/python3.6/dist-packages (from causalgraphicalmodels) (1.1.2)\n",
            "Requirement already satisfied: networkx in /usr/local/lib/python3.6/dist-packages (from causalgraphicalmodels) (2.5)\n",
            "Requirement already satisfied: numpy in /usr/local/lib/python3.6/dist-packages (from causalgraphicalmodels) (1.18.5)\n",
            "Requirement already satisfied: python-dateutil>=2.7.3 in /usr/local/lib/python3.6/dist-packages (from pandas->causalgraphicalmodels) (2.8.1)\n",
            "Requirement already satisfied: pytz>=2017.2 in /usr/local/lib/python3.6/dist-packages (from pandas->causalgraphicalmodels) (2018.9)\n",
            "Requirement already satisfied: decorator>=4.3.0 in /usr/local/lib/python3.6/dist-packages (from networkx->causalgraphicalmodels) (4.4.2)\n",
            "Requirement already satisfied: six>=1.5 in /usr/local/lib/python3.6/dist-packages (from python-dateutil>=2.7.3->pandas->causalgraphicalmodels) (1.15.0)\n",
            "Installing collected packages: causalgraphicalmodels\n",
            "Successfully installed causalgraphicalmodels-0.0.4\n",
            "Collecting causalinference\n",
            "\u001b[?25l  Downloading https://files.pythonhosted.org/packages/dc/7f/4504b42ef5a1158075954f54d08b95b2d5b2186da0ef9fcbcd0cf31411f2/CausalInference-0.1.3-py3-none-any.whl (51kB)\n",
            "\u001b[K     |████████████████████████████████| 51kB 1.6MB/s \n",
            "\u001b[?25hInstalling collected packages: causalinference\n",
            "Successfully installed causalinference-0.1.3\n",
            "Collecting pymc3\n",
            "\u001b[?25l  Downloading https://files.pythonhosted.org/packages/11/10/36a32ccc91094d134aed49b560d254c0c362a01d2e827d57932e78c53280/pymc3-3.9.3-py3-none-any.whl (1.9MB)\n",
            "\u001b[K     |████████████████████████████████| 1.9MB 2.8MB/s \n",
            "\u001b[?25hRequirement already satisfied, skipping upgrade: pandas>=0.18.0 in /usr/local/lib/python3.6/dist-packages (from pymc3) (1.1.2)\n",
            "Requirement already satisfied, skipping upgrade: numpy>=1.13.0 in /usr/local/lib/python3.6/dist-packages (from pymc3) (1.18.5)\n",
            "Requirement already satisfied, skipping upgrade: h5py>=2.7.0 in /usr/local/lib/python3.6/dist-packages (from pymc3) (2.10.0)\n",
            "Requirement already satisfied, skipping upgrade: scipy>=0.18.1 in /usr/local/lib/python3.6/dist-packages (from pymc3) (1.4.1)\n",
            "Requirement already satisfied, skipping upgrade: dataclasses; python_version < \"3.7\" in /usr/local/lib/python3.6/dist-packages (from pymc3) (0.7)\n",
            "Collecting arviz>=0.9.0\n",
            "\u001b[?25l  Downloading https://files.pythonhosted.org/packages/a9/05/54183e9e57b0793eceb67361dbf4a7c4ed797ae36a04a3287791a564568c/arviz-0.10.0-py3-none-any.whl (1.5MB)\n",
            "\u001b[K     |████████████████████████████████| 1.5MB 18.5MB/s \n",
            "\u001b[?25hRequirement already satisfied, skipping upgrade: typing-extensions>=3.7.4 in /usr/local/lib/python3.6/dist-packages (from pymc3) (3.7.4.3)\n",
            "Collecting contextvars; python_version < \"3.7\"\n",
            "  Downloading https://files.pythonhosted.org/packages/83/96/55b82d9f13763be9d672622e1b8106c85acb83edd7cc2fa5bc67cd9877e9/contextvars-2.4.tar.gz\n",
            "Requirement already satisfied, skipping upgrade: fastprogress>=0.2.0 in /usr/local/lib/python3.6/dist-packages (from pymc3) (1.0.0)\n",
            "Requirement already satisfied, skipping upgrade: patsy>=0.5.1 in /usr/local/lib/python3.6/dist-packages (from pymc3) (0.5.1)\n",
            "Requirement already satisfied, skipping upgrade: theano>=1.0.5 in /usr/local/lib/python3.6/dist-packages (from pymc3) (1.0.5)\n",
            "Requirement already satisfied, skipping upgrade: pytz>=2017.2 in /usr/local/lib/python3.6/dist-packages (from pandas>=0.18.0->pymc3) (2018.9)\n",
            "Requirement already satisfied, skipping upgrade: python-dateutil>=2.7.3 in /usr/local/lib/python3.6/dist-packages (from pandas>=0.18.0->pymc3) (2.8.1)\n",
            "Requirement already satisfied, skipping upgrade: six in /usr/local/lib/python3.6/dist-packages (from h5py>=2.7.0->pymc3) (1.15.0)\n",
            "Requirement already satisfied, skipping upgrade: packaging in /usr/local/lib/python3.6/dist-packages (from arviz>=0.9.0->pymc3) (20.4)\n",
            "Requirement already satisfied, skipping upgrade: setuptools>=38.4 in /usr/local/lib/python3.6/dist-packages (from arviz>=0.9.0->pymc3) (50.3.0)\n",
            "Requirement already satisfied, skipping upgrade: matplotlib>=3.0 in /usr/local/lib/python3.6/dist-packages (from arviz>=0.9.0->pymc3) (3.2.2)\n",
            "Collecting netcdf4\n",
            "\u001b[?25l  Downloading https://files.pythonhosted.org/packages/09/39/3687b2ba762a709cd97e48dfaf3ae36a78ae603ec3d1487f767ad58a7b2e/netCDF4-1.5.4-cp36-cp36m-manylinux1_x86_64.whl (4.3MB)\n",
            "\u001b[K     |████████████████████████████████| 4.3MB 29.2MB/s \n",
            "\u001b[?25hCollecting xarray>=0.16.1\n",
            "\u001b[?25l  Downloading https://files.pythonhosted.org/packages/7a/cc/62ca520e349e63b05ce43c781757cbd3bea71d83ece96f2176763b57e8c2/xarray-0.16.1-py3-none-any.whl (720kB)\n",
            "\u001b[K     |████████████████████████████████| 727kB 23.0MB/s \n",
            "\u001b[?25hCollecting immutables>=0.9\n",
            "\u001b[?25l  Downloading https://files.pythonhosted.org/packages/99/e0/ea6fd4697120327d26773b5a84853f897a68e33d3f9376b00a8ff96e4f63/immutables-0.14-cp36-cp36m-manylinux1_x86_64.whl (98kB)\n",
            "\u001b[K     |████████████████████████████████| 102kB 14.2MB/s \n",
            "\u001b[?25hRequirement already satisfied, skipping upgrade: pyparsing>=2.0.2 in /usr/local/lib/python3.6/dist-packages (from packaging->arviz>=0.9.0->pymc3) (2.4.7)\n",
            "Requirement already satisfied, skipping upgrade: kiwisolver>=1.0.1 in /usr/local/lib/python3.6/dist-packages (from matplotlib>=3.0->arviz>=0.9.0->pymc3) (1.2.0)\n",
            "Requirement already satisfied, skipping upgrade: cycler>=0.10 in /usr/local/lib/python3.6/dist-packages (from matplotlib>=3.0->arviz>=0.9.0->pymc3) (0.10.0)\n",
            "Collecting cftime\n",
            "\u001b[?25l  Downloading https://files.pythonhosted.org/packages/81/f4/31cb9b65f462ea960bd334c5466313cb7b8af792f272546b68b7868fccd4/cftime-1.2.1-cp36-cp36m-manylinux1_x86_64.whl (287kB)\n",
            "\u001b[K     |████████████████████████████████| 296kB 44.5MB/s \n",
            "\u001b[?25hBuilding wheels for collected packages: contextvars\n",
            "  Building wheel for contextvars (setup.py) ... \u001b[?25l\u001b[?25hdone\n",
            "  Created wheel for contextvars: filename=contextvars-2.4-cp36-none-any.whl size=7666 sha256=cfb68c1bf77e0c6b0121453508eeb04cb4ca0b3c4490627e916110183edeb1a2\n",
            "  Stored in directory: /root/.cache/pip/wheels/a5/7d/68/1ebae2668bda2228686e3c1cf16f2c2384cea6e9334ad5f6de\n",
            "Successfully built contextvars\n",
            "Installing collected packages: cftime, netcdf4, xarray, arviz, immutables, contextvars, pymc3\n",
            "  Found existing installation: xarray 0.15.1\n",
            "    Uninstalling xarray-0.15.1:\n",
            "      Successfully uninstalled xarray-0.15.1\n",
            "  Found existing installation: pymc3 3.7\n",
            "    Uninstalling pymc3-3.7:\n",
            "      Successfully uninstalled pymc3-3.7\n",
            "Successfully installed arviz-0.10.0 cftime-1.2.1 contextvars-2.4 immutables-0.14 netcdf4-1.5.4 pymc3-3.9.3 xarray-0.16.1\n",
            "Requirement already satisfied: arviz in /usr/local/lib/python3.6/dist-packages (0.10.0)\n",
            "Requirement already satisfied: numpy>=1.12 in /usr/local/lib/python3.6/dist-packages (from arviz) (1.18.5)\n",
            "Requirement already satisfied: setuptools>=38.4 in /usr/local/lib/python3.6/dist-packages (from arviz) (50.3.0)\n",
            "Requirement already satisfied: scipy>=0.19 in /usr/local/lib/python3.6/dist-packages (from arviz) (1.4.1)\n",
            "Requirement already satisfied: packaging in /usr/local/lib/python3.6/dist-packages (from arviz) (20.4)\n",
            "Requirement already satisfied: xarray>=0.16.1 in /usr/local/lib/python3.6/dist-packages (from arviz) (0.16.1)\n",
            "Requirement already satisfied: netcdf4 in /usr/local/lib/python3.6/dist-packages (from arviz) (1.5.4)\n",
            "Requirement already satisfied: matplotlib>=3.0 in /usr/local/lib/python3.6/dist-packages (from arviz) (3.2.2)\n",
            "Requirement already satisfied: pandas>=0.23 in /usr/local/lib/python3.6/dist-packages (from arviz) (1.1.2)\n",
            "Requirement already satisfied: six in /usr/local/lib/python3.6/dist-packages (from packaging->arviz) (1.15.0)\n",
            "Requirement already satisfied: pyparsing>=2.0.2 in /usr/local/lib/python3.6/dist-packages (from packaging->arviz) (2.4.7)\n",
            "Requirement already satisfied: cftime in /usr/local/lib/python3.6/dist-packages (from netcdf4->arviz) (1.2.1)\n",
            "Requirement already satisfied: kiwisolver>=1.0.1 in /usr/local/lib/python3.6/dist-packages (from matplotlib>=3.0->arviz) (1.2.0)\n",
            "Requirement already satisfied: python-dateutil>=2.1 in /usr/local/lib/python3.6/dist-packages (from matplotlib>=3.0->arviz) (2.8.1)\n",
            "Requirement already satisfied: cycler>=0.10 in /usr/local/lib/python3.6/dist-packages (from matplotlib>=3.0->arviz) (0.10.0)\n",
            "Requirement already satisfied: pytz>=2017.2 in /usr/local/lib/python3.6/dist-packages (from pandas>=0.23->arviz) (2018.9)\n"
          ],
          "name": "stdout"
        }
      ]
    },
    {
      "cell_type": "markdown",
      "metadata": {
        "id": "PfCcmOM2Zled",
        "colab_type": "text"
      },
      "source": [
        "# import modules"
      ]
    },
    {
      "cell_type": "code",
      "metadata": {
        "id": "fTAbvEOyi1RP",
        "colab_type": "code",
        "colab": {}
      },
      "source": [
        "import numpy as np\n",
        "import pandas as pd\n",
        "import matplotlib.pyplot as plt\n",
        "import seaborn as sns\n",
        "import pylab as pl\n",
        "import pymc3 as pm\n",
        "from scipy import stats\n",
        "from IPython.display import display, Math, Latex, Markdown\n",
        "from causalgraphicalmodels import CausalGraphicalModel\n",
        "from causalinference import CausalModel\n",
        "%matplotlib inline"
      ],
      "execution_count": 3,
      "outputs": []
    },
    {
      "cell_type": "code",
      "metadata": {
        "id": "-ijjQZr42PHj",
        "colab_type": "code",
        "colab": {}
      },
      "source": [
        "# Initialize random number generator\n",
        "np.random.seed(123)"
      ],
      "execution_count": 4,
      "outputs": []
    },
    {
      "cell_type": "markdown",
      "metadata": {
        "id": "bfA2qJI0yFfq",
        "colab_type": "text"
      },
      "source": [
        "# Causal Graphical Model"
      ]
    },
    {
      "cell_type": "markdown",
      "metadata": {
        "id": "KJtUZVUSy_Nm",
        "colab_type": "text"
      },
      "source": [
        "inference: http://www.degeneratestate.org/posts/2018/Jul/10/causal-inference-with-python-part-2-causal-graphical-models/"
      ]
    },
    {
      "cell_type": "code",
      "metadata": {
        "id": "2RbG5eo7UMFX",
        "colab_type": "code",
        "colab": {
          "base_uri": "https://localhost:8080/",
          "height": 51
        },
        "outputId": "86cd9881-a927-47b8-cc90-22529635fdc0"
      },
      "source": [
        "# testing\n",
        "print (np.random.binomial(n=100,p=0.3))\n",
        "print (np.random.normal(loc=1, scale=0.1))"
      ],
      "execution_count": 5,
      "outputs": [
        {
          "output_type": "stream",
          "text": [
            "32\n",
            "0.9047902793138678\n"
          ],
          "name": "stdout"
        }
      ]
    },
    {
      "cell_type": "markdown",
      "metadata": {
        "id": "RZ_oXjDxlR_o",
        "colab_type": "text"
      },
      "source": [
        "## Probabilistic Graphical Model"
      ]
    },
    {
      "cell_type": "code",
      "metadata": {
        "id": "tbRR25TbyEnC",
        "colab_type": "code",
        "colab": {
          "base_uri": "https://localhost:8080/",
          "height": 368
        },
        "outputId": "af1e7a05-a07e-4e6f-caf6-300f20c42a05"
      },
      "source": [
        "covid19 = CausalGraphicalModel(\n",
        "    nodes=[\"covid19\", \"pcr_tested\", \"positive_cases\", \"negative_cases\", \"death_total\"],\n",
        "    edges=[\n",
        "        (\"covid19\", \"pcr_tested\"), \n",
        "        (\"pcr_tested\", \"positive_cases\"), \n",
        "        (\"pcr_tested\", \"negative_cases\"),\n",
        "        (\"covid19\", \"death_total\"), \n",
        "        (\"positive_cases\", \"death_total\")\n",
        "    ]\n",
        ")\n",
        "\n",
        "# draw a graphviz `dot` object\n",
        "covid19.draw()"
      ],
      "execution_count": 6,
      "outputs": [
        {
          "output_type": "execute_result",
          "data": {
            "text/plain": [
              "<graphviz.dot.Digraph at 0x7fac4d794fd0>"
            ],
            "image/svg+xml": "<?xml version=\"1.0\" encoding=\"UTF-8\" standalone=\"no\"?>\n<!DOCTYPE svg PUBLIC \"-//W3C//DTD SVG 1.1//EN\"\n \"http://www.w3.org/Graphics/SVG/1.1/DTD/svg11.dtd\">\n<!-- Generated by graphviz version 2.40.1 (20161225.0304)\n -->\n<!-- Title: %3 Pages: 1 -->\n<svg width=\"307pt\" height=\"260pt\"\n viewBox=\"0.00 0.00 307.29 260.00\" xmlns=\"http://www.w3.org/2000/svg\" xmlns:xlink=\"http://www.w3.org/1999/xlink\">\n<g id=\"graph0\" class=\"graph\" transform=\"scale(1 1) rotate(0) translate(4 256)\">\n<title>%3</title>\n<polygon fill=\"#ffffff\" stroke=\"transparent\" points=\"-4,4 -4,-256 303.2907,-256 303.2907,4 -4,4\"/>\n<!-- covid19 -->\n<g id=\"node1\" class=\"node\">\n<title>covid19</title>\n<ellipse fill=\"none\" stroke=\"#000000\" cx=\"41.5963\" cy=\"-234\" rx=\"41.6928\" ry=\"18\"/>\n<text text-anchor=\"middle\" x=\"41.5963\" y=\"-230.3\" font-family=\"Times,serif\" font-size=\"14.00\" fill=\"#000000\">covid19</text>\n</g>\n<!-- death_total -->\n<g id=\"node2\" class=\"node\">\n<title>death_total</title>\n<ellipse fill=\"none\" stroke=\"#000000\" cx=\"114.5963\" cy=\"-18\" rx=\"51.9908\" ry=\"18\"/>\n<text text-anchor=\"middle\" x=\"114.5963\" y=\"-14.3\" font-family=\"Times,serif\" font-size=\"14.00\" fill=\"#000000\">death_total</text>\n</g>\n<!-- covid19&#45;&gt;death_total -->\n<g id=\"edge2\" class=\"edge\">\n<title>covid19&#45;&gt;death_total</title>\n<path fill=\"none\" stroke=\"#000000\" d=\"M31.4139,-216.5244C14.6458,-185.2213 -14.2808,-118.516 13.5963,-72 24.7079,-53.459 44.5957,-40.9272 63.8022,-32.6444\"/>\n<polygon fill=\"#000000\" stroke=\"#000000\" points=\"65.1495,-35.8752 73.1347,-28.9119 62.55,-29.3757 65.1495,-35.8752\"/>\n</g>\n<!-- pcr_tested -->\n<g id=\"node3\" class=\"node\">\n<title>pcr_tested</title>\n<ellipse fill=\"none\" stroke=\"#000000\" cx=\"88.5963\" cy=\"-162\" rx=\"48.1917\" ry=\"18\"/>\n<text text-anchor=\"middle\" x=\"88.5963\" y=\"-158.3\" font-family=\"Times,serif\" font-size=\"14.00\" fill=\"#000000\">pcr_tested</text>\n</g>\n<!-- covid19&#45;&gt;pcr_tested -->\n<g id=\"edge1\" class=\"edge\">\n<title>covid19&#45;&gt;pcr_tested</title>\n<path fill=\"none\" stroke=\"#000000\" d=\"M52.9737,-216.5708C58.5324,-208.0553 65.3373,-197.6308 71.5046,-188.183\"/>\n<polygon fill=\"#000000\" stroke=\"#000000\" points=\"74.6254,-189.8052 77.1608,-179.5182 68.7637,-185.9789 74.6254,-189.8052\"/>\n</g>\n<!-- negative_cases -->\n<g id=\"node4\" class=\"node\">\n<title>negative_cases</title>\n<ellipse fill=\"none\" stroke=\"#000000\" cx=\"88.5963\" cy=\"-90\" rx=\"65.7887\" ry=\"18\"/>\n<text text-anchor=\"middle\" x=\"88.5963\" y=\"-86.3\" font-family=\"Times,serif\" font-size=\"14.00\" fill=\"#000000\">negative_cases</text>\n</g>\n<!-- pcr_tested&#45;&gt;negative_cases -->\n<g id=\"edge4\" class=\"edge\">\n<title>pcr_tested&#45;&gt;negative_cases</title>\n<path fill=\"none\" stroke=\"#000000\" d=\"M88.5963,-143.8314C88.5963,-136.131 88.5963,-126.9743 88.5963,-118.4166\"/>\n<polygon fill=\"#000000\" stroke=\"#000000\" points=\"92.0964,-118.4132 88.5963,-108.4133 85.0964,-118.4133 92.0964,-118.4132\"/>\n</g>\n<!-- positive_cases -->\n<g id=\"node5\" class=\"node\">\n<title>positive_cases</title>\n<ellipse fill=\"none\" stroke=\"#000000\" cx=\"235.5963\" cy=\"-90\" rx=\"63.8893\" ry=\"18\"/>\n<text text-anchor=\"middle\" x=\"235.5963\" y=\"-86.3\" font-family=\"Times,serif\" font-size=\"14.00\" fill=\"#000000\">positive_cases</text>\n</g>\n<!-- pcr_tested&#45;&gt;positive_cases -->\n<g id=\"edge3\" class=\"edge\">\n<title>pcr_tested&#45;&gt;positive_cases</title>\n<path fill=\"none\" stroke=\"#000000\" d=\"M117.9906,-147.6028C139.9818,-136.8316 170.3322,-121.9661 194.6922,-110.0347\"/>\n<polygon fill=\"#000000\" stroke=\"#000000\" points=\"196.2641,-113.1621 203.7052,-105.6202 193.185,-106.8757 196.2641,-113.1621\"/>\n</g>\n<!-- positive_cases&#45;&gt;death_total -->\n<g id=\"edge5\" class=\"edge\">\n<title>positive_cases&#45;&gt;death_total</title>\n<path fill=\"none\" stroke=\"#000000\" d=\"M208.1395,-73.6621C190.8822,-63.3932 168.4506,-50.0455 149.8797,-38.9951\"/>\n<polygon fill=\"#000000\" stroke=\"#000000\" points=\"151.4963,-35.8843 141.1129,-33.7784 147.9168,-41.8999 151.4963,-35.8843\"/>\n</g>\n</g>\n</svg>\n"
          },
          "metadata": {
            "tags": []
          },
          "execution_count": 6
        }
      ]
    },
    {
      "cell_type": "code",
      "metadata": {
        "id": "Vtq1v_LQzFSY",
        "colab_type": "code",
        "colab": {
          "base_uri": "https://localhost:8080/",
          "height": 35
        },
        "outputId": "ebfc097d-e7b9-4101-a9d0-c9019907d7b7"
      },
      "source": [
        "covid19.get_distribution()"
      ],
      "execution_count": 7,
      "outputs": [
        {
          "output_type": "execute_result",
          "data": {
            "application/vnd.google.colaboratory.intrinsic+json": {
              "type": "string"
            },
            "text/plain": [
              "'P(covid19)P(pcr_tested|covid19)P(negative_cases|pcr_tested)P(positive_cases|pcr_tested)P(death_total|covid19,positive_cases)'"
            ]
          },
          "metadata": {
            "tags": []
          },
          "execution_count": 7
        }
      ]
    },
    {
      "cell_type": "code",
      "metadata": {
        "id": "7s7CQKYbZPLi",
        "colab_type": "code",
        "colab": {
          "base_uri": "https://localhost:8080/",
          "height": 85
        },
        "outputId": "c24689b4-5f58-48a5-af7a-12f8444ddfc9"
      },
      "source": [
        "# d-seperation\n",
        "# #https://www.andrew.cmu.edu/user/scheines/tutor/d-sep.html#explanation\n",
        "print (covid19.is_d_separated(\"positive_cases\", \"death_total\", {}))\n",
        "print (covid19.is_d_separated(\"negative_cases\", \"positive_cases\", {'pcr_tested'}))\n",
        "print (covid19.is_d_separated(\"negative_cases\", \"death_total\", {}))\n",
        "print (covid19.is_d_separated(\"pcr_tested\", \"death_total\", {\"positive_cases\"}))"
      ],
      "execution_count": 8,
      "outputs": [
        {
          "output_type": "stream",
          "text": [
            "False\n",
            "True\n",
            "False\n",
            "False\n"
          ],
          "name": "stdout"
        }
      ]
    },
    {
      "cell_type": "code",
      "metadata": {
        "id": "ZpvLi7yAzFdF",
        "colab_type": "code",
        "colab": {
          "base_uri": "https://localhost:8080/",
          "height": 442
        },
        "outputId": "64c57508-8794-402c-e244-d97b1a4ee09b"
      },
      "source": [
        "covid19.get_all_independence_relationships()"
      ],
      "execution_count": 9,
      "outputs": [
        {
          "output_type": "execute_result",
          "data": {
            "text/plain": [
              "[('covid19', 'negative_cases', {'pcr_tested'}),\n",
              " ('covid19', 'negative_cases', {'pcr_tested', 'positive_cases'}),\n",
              " ('covid19', 'negative_cases', {'death_total', 'pcr_tested'}),\n",
              " ('covid19',\n",
              "  'negative_cases',\n",
              "  {'death_total', 'pcr_tested', 'positive_cases'}),\n",
              " ('covid19', 'positive_cases', {'pcr_tested'}),\n",
              " ('covid19', 'positive_cases', {'negative_cases', 'pcr_tested'}),\n",
              " ('death_total', 'pcr_tested', {'covid19', 'positive_cases'}),\n",
              " ('death_total',\n",
              "  'pcr_tested',\n",
              "  {'covid19', 'negative_cases', 'positive_cases'}),\n",
              " ('death_total', 'negative_cases', {'pcr_tested'}),\n",
              " ('death_total', 'negative_cases', {'covid19', 'pcr_tested'}),\n",
              " ('death_total', 'negative_cases', {'covid19', 'positive_cases'}),\n",
              " ('death_total', 'negative_cases', {'pcr_tested', 'positive_cases'}),\n",
              " ('death_total',\n",
              "  'negative_cases',\n",
              "  {'covid19', 'pcr_tested', 'positive_cases'}),\n",
              " ('negative_cases', 'positive_cases', {'pcr_tested'}),\n",
              " ('negative_cases', 'positive_cases', {'covid19', 'pcr_tested'}),\n",
              " ('negative_cases', 'positive_cases', {'death_total', 'pcr_tested'}),\n",
              " ('negative_cases',\n",
              "  'positive_cases',\n",
              "  {'covid19', 'death_total', 'pcr_tested'})]"
            ]
          },
          "metadata": {
            "tags": []
          },
          "execution_count": 9
        }
      ]
    },
    {
      "cell_type": "markdown",
      "metadata": {
        "id": "cpqIO-CIcGw1",
        "colab_type": "text"
      },
      "source": [
        "## Causal Graphical Models "
      ]
    },
    {
      "cell_type": "code",
      "metadata": {
        "id": "pYgHUxMLcOZd",
        "colab_type": "code",
        "colab": {
          "base_uri": "https://localhost:8080/",
          "height": 299
        },
        "outputId": "63c9b262-55cc-4b08-d22c-c35330939093"
      },
      "source": [
        "covid19_do = covid19.do(\"positive_cases\")\n",
        "print(covid19_do.get_distribution())\n",
        "covid19_do.draw()"
      ],
      "execution_count": 10,
      "outputs": [
        {
          "output_type": "stream",
          "text": [
            "P(covid19)P(death_total|covid19,do(positive_cases))P(pcr_tested|covid19)P(negative_cases|pcr_tested)\n"
          ],
          "name": "stdout"
        },
        {
          "output_type": "execute_result",
          "data": {
            "text/plain": [
              "<graphviz.dot.Digraph at 0x7fac67830f98>"
            ],
            "image/svg+xml": "<?xml version=\"1.0\" encoding=\"UTF-8\" standalone=\"no\"?>\n<!DOCTYPE svg PUBLIC \"-//W3C//DTD SVG 1.1//EN\"\n \"http://www.w3.org/Graphics/SVG/1.1/DTD/svg11.dtd\">\n<!-- Generated by graphviz version 2.40.1 (20161225.0304)\n -->\n<!-- Title: %3 Pages: 1 -->\n<svg width=\"268pt\" height=\"196pt\"\n viewBox=\"0.00 0.00 268.34 196.00\" xmlns=\"http://www.w3.org/2000/svg\" xmlns:xlink=\"http://www.w3.org/1999/xlink\">\n<g id=\"graph0\" class=\"graph\" transform=\"scale(1 1) rotate(0) translate(4 192)\">\n<title>%3</title>\n<polygon fill=\"#ffffff\" stroke=\"transparent\" points=\"-4,4 -4,-192 264.3385,-192 264.3385,4 -4,4\"/>\n<!-- covid19 -->\n<g id=\"node1\" class=\"node\">\n<title>covid19</title>\n<ellipse fill=\"none\" stroke=\"#000000\" cx=\"194.6943\" cy=\"-166\" rx=\"41.6928\" ry=\"18\"/>\n<text text-anchor=\"middle\" x=\"194.6943\" y=\"-162.3\" font-family=\"Times,serif\" font-size=\"14.00\" fill=\"#000000\">covid19</text>\n</g>\n<!-- death_total -->\n<g id=\"node2\" class=\"node\">\n<title>death_total</title>\n<ellipse fill=\"none\" stroke=\"#000000\" cx=\"72.6943\" cy=\"-90\" rx=\"51.9908\" ry=\"18\"/>\n<text text-anchor=\"middle\" x=\"72.6943\" y=\"-86.3\" font-family=\"Times,serif\" font-size=\"14.00\" fill=\"#000000\">death_total</text>\n</g>\n<!-- covid19&#45;&gt;death_total -->\n<g id=\"edge2\" class=\"edge\">\n<title>covid19&#45;&gt;death_total</title>\n<path fill=\"none\" stroke=\"#000000\" d=\"M170.8819,-151.166C152.6395,-139.8019 127.2218,-123.9679 106.8183,-111.2575\"/>\n<polygon fill=\"#000000\" stroke=\"#000000\" points=\"108.4676,-108.1614 98.1292,-105.8446 104.7663,-114.1029 108.4676,-108.1614\"/>\n</g>\n<!-- pcr_tested -->\n<g id=\"node3\" class=\"node\">\n<title>pcr_tested</title>\n<ellipse fill=\"none\" stroke=\"#000000\" cx=\"194.6943\" cy=\"-90\" rx=\"48.1917\" ry=\"18\"/>\n<text text-anchor=\"middle\" x=\"194.6943\" y=\"-86.3\" font-family=\"Times,serif\" font-size=\"14.00\" fill=\"#000000\">pcr_tested</text>\n</g>\n<!-- covid19&#45;&gt;pcr_tested -->\n<g id=\"edge1\" class=\"edge\">\n<title>covid19&#45;&gt;pcr_tested</title>\n<path fill=\"none\" stroke=\"#000000\" d=\"M194.6943,-147.9891C194.6943,-139.1566 194.6943,-128.3099 194.6943,-118.3965\"/>\n<polygon fill=\"#000000\" stroke=\"#000000\" points=\"198.1944,-118.145 194.6943,-108.145 191.1944,-118.1451 198.1944,-118.145\"/>\n</g>\n<!-- negative_cases -->\n<g id=\"node4\" class=\"node\">\n<title>negative_cases</title>\n<ellipse fill=\"none\" stroke=\"#000000\" cx=\"194.6943\" cy=\"-18\" rx=\"65.7887\" ry=\"18\"/>\n<text text-anchor=\"middle\" x=\"194.6943\" y=\"-14.3\" font-family=\"Times,serif\" font-size=\"14.00\" fill=\"#000000\">negative_cases</text>\n</g>\n<!-- pcr_tested&#45;&gt;negative_cases -->\n<g id=\"edge3\" class=\"edge\">\n<title>pcr_tested&#45;&gt;negative_cases</title>\n<path fill=\"none\" stroke=\"#000000\" d=\"M194.6943,-71.8314C194.6943,-64.131 194.6943,-54.9743 194.6943,-46.4166\"/>\n<polygon fill=\"#000000\" stroke=\"#000000\" points=\"198.1944,-46.4132 194.6943,-36.4133 191.1944,-46.4133 198.1944,-46.4132\"/>\n</g>\n<!-- positive_cases -->\n<g id=\"node5\" class=\"node\">\n<title>positive_cases</title>\n<ellipse fill=\"none\" stroke=\"#000000\" cx=\"67.6943\" cy=\"-166\" rx=\"63.8777\" ry=\"18\"/>\n<ellipse fill=\"none\" stroke=\"#000000\" cx=\"67.6943\" cy=\"-166\" rx=\"67.8893\" ry=\"22\"/>\n<text text-anchor=\"middle\" x=\"67.6943\" y=\"-162.3\" font-family=\"Times,serif\" font-size=\"14.00\" fill=\"#000000\">positive_cases</text>\n</g>\n<!-- positive_cases&#45;&gt;death_total -->\n<g id=\"edge4\" class=\"edge\">\n<title>positive_cases&#45;&gt;death_total</title>\n<path fill=\"none\" stroke=\"#000000\" d=\"M69.1675,-143.6086C69.686,-135.7272 70.2758,-126.7616 70.8228,-118.4482\"/>\n<polygon fill=\"#000000\" stroke=\"#000000\" points=\"74.3199,-118.6057 71.484,-108.3975 67.335,-118.1461 74.3199,-118.6057\"/>\n</g>\n</g>\n</svg>\n"
          },
          "metadata": {
            "tags": []
          },
          "execution_count": 10
        }
      ]
    },
    {
      "cell_type": "markdown",
      "metadata": {
        "id": "ECu7zbYsz_s1",
        "colab_type": "text"
      },
      "source": [
        "# Probability"
      ]
    },
    {
      "cell_type": "markdown",
      "metadata": {
        "id": "BRq8pcLqEJbX",
        "colab_type": "text"
      },
      "source": [
        "$$\n",
        "\\begin{equation*}\n",
        "P(E)   = {n \\choose k} p^k (1-p)^{ n-k}\n",
        "\\end{equation*}\n",
        "$$"
      ]
    },
    {
      "cell_type": "markdown",
      "metadata": {
        "id": "sYmunuwNEQuv",
        "colab_type": "text"
      },
      "source": [
        "P(Y∣do(X))=∑ZP(Y∣do(X),Z)P(Z)"
      ]
    },
    {
      "cell_type": "markdown",
      "metadata": {
        "id": "psWmCIBIzYR-",
        "colab_type": "text"
      },
      "source": [
        "# Get data"
      ]
    },
    {
      "cell_type": "code",
      "metadata": {
        "id": "PBntaER-g02s",
        "colab_type": "code",
        "colab": {
          "base_uri": "https://localhost:8080/",
          "height": 111
        },
        "outputId": "dc2eab43-f255-4f44-eaed-dcdd419e13d0"
      },
      "source": [
        "df_pcr = pd.read_csv(\"pcr_tested.csv\")\n",
        "df_pcr.head(2)"
      ],
      "execution_count": 11,
      "outputs": [
        {
          "output_type": "execute_result",
          "data": {
            "text/html": [
              "<div>\n",
              "<style scoped>\n",
              "    .dataframe tbody tr th:only-of-type {\n",
              "        vertical-align: middle;\n",
              "    }\n",
              "\n",
              "    .dataframe tbody tr th {\n",
              "        vertical-align: top;\n",
              "    }\n",
              "\n",
              "    .dataframe thead th {\n",
              "        text-align: right;\n",
              "    }\n",
              "</style>\n",
              "<table border=\"1\" class=\"dataframe\">\n",
              "  <thead>\n",
              "    <tr style=\"text-align: right;\">\n",
              "      <th></th>\n",
              "      <th>日付</th>\n",
              "      <th>PCR 検査実施件数(単日)</th>\n",
              "    </tr>\n",
              "  </thead>\n",
              "  <tbody>\n",
              "    <tr>\n",
              "      <th>0</th>\n",
              "      <td>2020/2/5</td>\n",
              "      <td>4</td>\n",
              "    </tr>\n",
              "    <tr>\n",
              "      <th>1</th>\n",
              "      <td>2020/2/6</td>\n",
              "      <td>19</td>\n",
              "    </tr>\n",
              "  </tbody>\n",
              "</table>\n",
              "</div>"
            ],
            "text/plain": [
              "         日付  PCR 検査実施件数(単日)\n",
              "0  2020/2/5               4\n",
              "1  2020/2/6              19"
            ]
          },
          "metadata": {
            "tags": []
          },
          "execution_count": 11
        }
      ]
    },
    {
      "cell_type": "code",
      "metadata": {
        "id": "6UHqTq6XjZV2",
        "colab_type": "code",
        "colab": {
          "base_uri": "https://localhost:8080/",
          "height": 111
        },
        "outputId": "4c1c9c2f-5711-49e7-8430-488018ca5799"
      },
      "source": [
        "df_cases = pd.read_csv(\"positive_cases.csv\")\n",
        "df_cases.head(2)"
      ],
      "execution_count": 12,
      "outputs": [
        {
          "output_type": "execute_result",
          "data": {
            "text/html": [
              "<div>\n",
              "<style scoped>\n",
              "    .dataframe tbody tr th:only-of-type {\n",
              "        vertical-align: middle;\n",
              "    }\n",
              "\n",
              "    .dataframe tbody tr th {\n",
              "        vertical-align: top;\n",
              "    }\n",
              "\n",
              "    .dataframe thead th {\n",
              "        text-align: right;\n",
              "    }\n",
              "</style>\n",
              "<table border=\"1\" class=\"dataframe\">\n",
              "  <thead>\n",
              "    <tr style=\"text-align: right;\">\n",
              "      <th></th>\n",
              "      <th>日付</th>\n",
              "      <th>PCR 検査陽性者数(単日)</th>\n",
              "    </tr>\n",
              "  </thead>\n",
              "  <tbody>\n",
              "    <tr>\n",
              "      <th>0</th>\n",
              "      <td>2020/1/16</td>\n",
              "      <td>1</td>\n",
              "    </tr>\n",
              "    <tr>\n",
              "      <th>1</th>\n",
              "      <td>2020/1/17</td>\n",
              "      <td>0</td>\n",
              "    </tr>\n",
              "  </tbody>\n",
              "</table>\n",
              "</div>"
            ],
            "text/plain": [
              "          日付  PCR 検査陽性者数(単日)\n",
              "0  2020/1/16               1\n",
              "1  2020/1/17               0"
            ]
          },
          "metadata": {
            "tags": []
          },
          "execution_count": 12
        }
      ]
    },
    {
      "cell_type": "code",
      "metadata": {
        "id": "OIOTQ7OVmCma",
        "colab_type": "code",
        "colab": {
          "base_uri": "https://localhost:8080/",
          "height": 111
        },
        "outputId": "a324248f-7056-4f8c-9cbc-ef5ffa648f8f"
      },
      "source": [
        "df_death = pd.read_csv(\"death_total.csv\")\n",
        "df_death.head(2)"
      ],
      "execution_count": 13,
      "outputs": [
        {
          "output_type": "execute_result",
          "data": {
            "text/html": [
              "<div>\n",
              "<style scoped>\n",
              "    .dataframe tbody tr th:only-of-type {\n",
              "        vertical-align: middle;\n",
              "    }\n",
              "\n",
              "    .dataframe tbody tr th {\n",
              "        vertical-align: top;\n",
              "    }\n",
              "\n",
              "    .dataframe thead th {\n",
              "        text-align: right;\n",
              "    }\n",
              "</style>\n",
              "<table border=\"1\" class=\"dataframe\">\n",
              "  <thead>\n",
              "    <tr style=\"text-align: right;\">\n",
              "      <th></th>\n",
              "      <th>日付</th>\n",
              "      <th>死亡者数</th>\n",
              "    </tr>\n",
              "  </thead>\n",
              "  <tbody>\n",
              "    <tr>\n",
              "      <th>0</th>\n",
              "      <td>2020/2/14</td>\n",
              "      <td>1</td>\n",
              "    </tr>\n",
              "    <tr>\n",
              "      <th>1</th>\n",
              "      <td>2020/2/15</td>\n",
              "      <td>1</td>\n",
              "    </tr>\n",
              "  </tbody>\n",
              "</table>\n",
              "</div>"
            ],
            "text/plain": [
              "          日付  死亡者数\n",
              "0  2020/2/14     1\n",
              "1  2020/2/15     1"
            ]
          },
          "metadata": {
            "tags": []
          },
          "execution_count": 13
        }
      ]
    },
    {
      "cell_type": "code",
      "metadata": {
        "id": "_TO7IKE-hIRx",
        "colab_type": "code",
        "colab": {}
      },
      "source": [
        "# rename columns\n",
        "df_pcr.rename(columns={\"日付\":\"date\", \"PCR 検査実施件数(単日)\":\"pcr_test\"}, inplace=True)\n",
        "df_cases.rename(columns={\"日付\":\"date\", \"PCR 検査陽性者数(単日)\":\"positive\"}, inplace=True)\n",
        "df_death.rename(columns={\"日付\":\"date\", \"死亡者数\":\"cumsum_death\"}, inplace=True)"
      ],
      "execution_count": 14,
      "outputs": []
    },
    {
      "cell_type": "code",
      "metadata": {
        "id": "4qpgeEaxmIEx",
        "colab_type": "code",
        "colab": {
          "base_uri": "https://localhost:8080/",
          "height": 235
        },
        "outputId": "218f6762-8e30-47de-fb37-7bcb5764df4a"
      },
      "source": [
        "# merge data\n",
        "df = pd.merge(df_cases, df_pcr, on=\"date\", how='inner')\n",
        "df = pd.merge(df, df_death, on=\"date\", how='inner')\n",
        "df = df.set_index(\"date\")\n",
        "df[\"percent_positive\"] = df[\"positive\"] / df[\"pcr_test\"] * 100\n",
        "df[\"death\"] = df[\"cumsum_death\"].diff().fillna(df['cumsum_death'].iloc[0])\n",
        "df[\"death\"] = df[\"death\"].astype(int)\n",
        "df.tail()"
      ],
      "execution_count": 15,
      "outputs": [
        {
          "output_type": "execute_result",
          "data": {
            "text/html": [
              "<div>\n",
              "<style scoped>\n",
              "    .dataframe tbody tr th:only-of-type {\n",
              "        vertical-align: middle;\n",
              "    }\n",
              "\n",
              "    .dataframe tbody tr th {\n",
              "        vertical-align: top;\n",
              "    }\n",
              "\n",
              "    .dataframe thead th {\n",
              "        text-align: right;\n",
              "    }\n",
              "</style>\n",
              "<table border=\"1\" class=\"dataframe\">\n",
              "  <thead>\n",
              "    <tr style=\"text-align: right;\">\n",
              "      <th></th>\n",
              "      <th>positive</th>\n",
              "      <th>pcr_test</th>\n",
              "      <th>cumsum_death</th>\n",
              "      <th>percent_positive</th>\n",
              "      <th>death</th>\n",
              "    </tr>\n",
              "    <tr>\n",
              "      <th>date</th>\n",
              "      <th></th>\n",
              "      <th></th>\n",
              "      <th></th>\n",
              "      <th></th>\n",
              "      <th></th>\n",
              "    </tr>\n",
              "  </thead>\n",
              "  <tbody>\n",
              "    <tr>\n",
              "      <th>2020/9/28</th>\n",
              "      <td>294</td>\n",
              "      <td>19750</td>\n",
              "      <td>1556</td>\n",
              "      <td>1.488608</td>\n",
              "      <td>9</td>\n",
              "    </tr>\n",
              "    <tr>\n",
              "      <th>2020/9/29</th>\n",
              "      <td>531</td>\n",
              "      <td>103676</td>\n",
              "      <td>1563</td>\n",
              "      <td>0.512173</td>\n",
              "      <td>7</td>\n",
              "    </tr>\n",
              "    <tr>\n",
              "      <th>2020/9/30</th>\n",
              "      <td>570</td>\n",
              "      <td>19462</td>\n",
              "      <td>1570</td>\n",
              "      <td>2.928784</td>\n",
              "      <td>7</td>\n",
              "    </tr>\n",
              "    <tr>\n",
              "      <th>2020/10/1</th>\n",
              "      <td>623</td>\n",
              "      <td>17671</td>\n",
              "      <td>1577</td>\n",
              "      <td>3.525550</td>\n",
              "      <td>7</td>\n",
              "    </tr>\n",
              "    <tr>\n",
              "      <th>2020/10/2</th>\n",
              "      <td>537</td>\n",
              "      <td>21860</td>\n",
              "      <td>1589</td>\n",
              "      <td>2.456542</td>\n",
              "      <td>12</td>\n",
              "    </tr>\n",
              "  </tbody>\n",
              "</table>\n",
              "</div>"
            ],
            "text/plain": [
              "           positive  pcr_test  cumsum_death  percent_positive  death\n",
              "date                                                                \n",
              "2020/9/28       294     19750          1556          1.488608      9\n",
              "2020/9/29       531    103676          1563          0.512173      7\n",
              "2020/9/30       570     19462          1570          2.928784      7\n",
              "2020/10/1       623     17671          1577          3.525550      7\n",
              "2020/10/2       537     21860          1589          2.456542     12"
            ]
          },
          "metadata": {
            "tags": []
          },
          "execution_count": 15
        }
      ]
    },
    {
      "cell_type": "code",
      "metadata": {
        "id": "YUVLzWcT1wRm",
        "colab_type": "code",
        "colab": {
          "base_uri": "https://localhost:8080/",
          "height": 235
        },
        "outputId": "c0602a07-1d8c-4333-da19-bc8ee1bfa7eb"
      },
      "source": [
        "df.head()"
      ],
      "execution_count": 16,
      "outputs": [
        {
          "output_type": "execute_result",
          "data": {
            "text/html": [
              "<div>\n",
              "<style scoped>\n",
              "    .dataframe tbody tr th:only-of-type {\n",
              "        vertical-align: middle;\n",
              "    }\n",
              "\n",
              "    .dataframe tbody tr th {\n",
              "        vertical-align: top;\n",
              "    }\n",
              "\n",
              "    .dataframe thead th {\n",
              "        text-align: right;\n",
              "    }\n",
              "</style>\n",
              "<table border=\"1\" class=\"dataframe\">\n",
              "  <thead>\n",
              "    <tr style=\"text-align: right;\">\n",
              "      <th></th>\n",
              "      <th>positive</th>\n",
              "      <th>pcr_test</th>\n",
              "      <th>cumsum_death</th>\n",
              "      <th>percent_positive</th>\n",
              "      <th>death</th>\n",
              "    </tr>\n",
              "    <tr>\n",
              "      <th>date</th>\n",
              "      <th></th>\n",
              "      <th></th>\n",
              "      <th></th>\n",
              "      <th></th>\n",
              "      <th></th>\n",
              "    </tr>\n",
              "  </thead>\n",
              "  <tbody>\n",
              "    <tr>\n",
              "      <th>2020/2/14</th>\n",
              "      <td>7</td>\n",
              "      <td>43</td>\n",
              "      <td>1</td>\n",
              "      <td>16.279070</td>\n",
              "      <td>1</td>\n",
              "    </tr>\n",
              "    <tr>\n",
              "      <th>2020/2/15</th>\n",
              "      <td>12</td>\n",
              "      <td>86</td>\n",
              "      <td>1</td>\n",
              "      <td>13.953488</td>\n",
              "      <td>0</td>\n",
              "    </tr>\n",
              "    <tr>\n",
              "      <th>2020/2/16</th>\n",
              "      <td>6</td>\n",
              "      <td>65</td>\n",
              "      <td>1</td>\n",
              "      <td>9.230769</td>\n",
              "      <td>0</td>\n",
              "    </tr>\n",
              "    <tr>\n",
              "      <th>2020/2/17</th>\n",
              "      <td>7</td>\n",
              "      <td>113</td>\n",
              "      <td>1</td>\n",
              "      <td>6.194690</td>\n",
              "      <td>0</td>\n",
              "    </tr>\n",
              "    <tr>\n",
              "      <th>2020/2/18</th>\n",
              "      <td>7</td>\n",
              "      <td>9</td>\n",
              "      <td>1</td>\n",
              "      <td>77.777778</td>\n",
              "      <td>0</td>\n",
              "    </tr>\n",
              "  </tbody>\n",
              "</table>\n",
              "</div>"
            ],
            "text/plain": [
              "           positive  pcr_test  cumsum_death  percent_positive  death\n",
              "date                                                                \n",
              "2020/2/14         7        43             1         16.279070      1\n",
              "2020/2/15        12        86             1         13.953488      0\n",
              "2020/2/16         6        65             1          9.230769      0\n",
              "2020/2/17         7       113             1          6.194690      0\n",
              "2020/2/18         7         9             1         77.777778      0"
            ]
          },
          "metadata": {
            "tags": []
          },
          "execution_count": 16
        }
      ]
    },
    {
      "cell_type": "code",
      "metadata": {
        "id": "g5u-QBBLnjve",
        "colab_type": "code",
        "colab": {
          "base_uri": "https://localhost:8080/",
          "height": 347
        },
        "outputId": "a2ec525a-219a-446b-bbe4-b595cf35760e"
      },
      "source": [
        "df.plot()\n",
        "plt.xticks(rotation=45)"
      ],
      "execution_count": 17,
      "outputs": [
        {
          "output_type": "execute_result",
          "data": {
            "text/plain": [
              "(array([-50.,   0.,  50., 100., 150., 200., 250.]),\n",
              " <a list of 7 Text major ticklabel objects>)"
            ]
          },
          "metadata": {
            "tags": []
          },
          "execution_count": 17
        },
        {
          "output_type": "display_data",
          "data": {
            "image/png": "[encoded data removed]",
            "text/plain": [
              "<Figure size 432x288 with 1 Axes>"
            ]
          },
          "metadata": {
            "tags": [],
            "needs_background": "light"
          }
        }
      ]
    },
    {
      "cell_type": "code",
      "metadata": {
        "id": "wdVEGZyv3Kn1",
        "colab_type": "code",
        "colab": {
          "base_uri": "https://localhost:8080/",
          "height": 296
        },
        "outputId": "fd5e8a4e-cb8d-4dd1-c149-f78569a909f9"
      },
      "source": [
        "df[\"death\"].plot()"
      ],
      "execution_count": 18,
      "outputs": [
        {
          "output_type": "execute_result",
          "data": {
            "text/plain": [
              "<matplotlib.axes._subplots.AxesSubplot at 0x7fac4c354dd8>"
            ]
          },
          "metadata": {
            "tags": []
          },
          "execution_count": 18
        },
        {
          "output_type": "display_data",
          "data": {
            "image/png": "[encoded data removed]",
            "text/plain": [
              "<Figure size 432x288 with 1 Axes>"
            ]
          },
          "metadata": {
            "tags": [],
            "needs_background": "light"
          }
        }
      ]
    },
    {
      "cell_type": "code",
      "metadata": {
        "id": "gnZYY-1_xzYA",
        "colab_type": "code",
        "colab": {
          "base_uri": "https://localhost:8080/",
          "height": 351
        },
        "outputId": "2273d5e8-791a-41f9-91ed-8d8f337b342f"
      },
      "source": [
        "sns.distplot(df[\"percent_positive\"], bins=25, color=\"g\")"
      ],
      "execution_count": 19,
      "outputs": [
        {
          "output_type": "stream",
          "text": [
            "/usr/local/lib/python3.6/dist-packages/seaborn/distributions.py:2551: FutureWarning: `distplot` is a deprecated function and will be removed in a future version. Please adapt your code to use either `displot` (a figure-level function with similar flexibility) or `histplot` (an axes-level function for histograms).\n",
            "  warnings.warn(msg, FutureWarning)\n"
          ],
          "name": "stderr"
        },
        {
          "output_type": "execute_result",
          "data": {
            "text/plain": [
              "<matplotlib.axes._subplots.AxesSubplot at 0x7fac4be705f8>"
            ]
          },
          "metadata": {
            "tags": []
          },
          "execution_count": 19
        },
        {
          "output_type": "display_data",
          "data": {
            "image/png": "[encoded data removed]",
            "text/plain": [
              "<Figure size 432x288 with 1 Axes>"
            ]
          },
          "metadata": {
            "tags": [],
            "needs_background": "light"
          }
        }
      ]
    },
    {
      "cell_type": "code",
      "metadata": {
        "id": "sJEldrRYoAkF",
        "colab_type": "code",
        "colab": {
          "base_uri": "https://localhost:8080/",
          "height": 351
        },
        "outputId": "4ee1e685-2b2e-438f-82ae-5161b4ac5926"
      },
      "source": [
        "sns.distplot(df[\"pcr_test\"], bins=25, color=\"g\", fit=stats.gamma)"
      ],
      "execution_count": 20,
      "outputs": [
        {
          "output_type": "stream",
          "text": [
            "/usr/local/lib/python3.6/dist-packages/seaborn/distributions.py:2551: FutureWarning: `distplot` is a deprecated function and will be removed in a future version. Please adapt your code to use either `displot` (a figure-level function with similar flexibility) or `histplot` (an axes-level function for histograms).\n",
            "  warnings.warn(msg, FutureWarning)\n"
          ],
          "name": "stderr"
        },
        {
          "output_type": "execute_result",
          "data": {
            "text/plain": [
              "<matplotlib.axes._subplots.AxesSubplot at 0x7fac4be61748>"
            ]
          },
          "metadata": {
            "tags": []
          },
          "execution_count": 20
        },
        {
          "output_type": "display_data",
          "data": {
            "image/png": "[encoded data removed]",
            "text/plain": [
              "<Figure size 432x288 with 1 Axes>"
            ]
          },
          "metadata": {
            "tags": [],
            "needs_background": "light"
          }
        }
      ]
    },
    {
      "cell_type": "code",
      "metadata": {
        "id": "FZEgdxZ332Gy",
        "colab_type": "code",
        "colab": {
          "base_uri": "https://localhost:8080/",
          "height": 351
        },
        "outputId": "e8da369a-027e-4da3-b482-a25a5e7afd6a"
      },
      "source": [
        "sns.distplot(df[\"pcr_test\"], bins=25, color=\"g\", fit=stats.norm)"
      ],
      "execution_count": 21,
      "outputs": [
        {
          "output_type": "stream",
          "text": [
            "/usr/local/lib/python3.6/dist-packages/seaborn/distributions.py:2551: FutureWarning: `distplot` is a deprecated function and will be removed in a future version. Please adapt your code to use either `displot` (a figure-level function with similar flexibility) or `histplot` (an axes-level function for histograms).\n",
            "  warnings.warn(msg, FutureWarning)\n"
          ],
          "name": "stderr"
        },
        {
          "output_type": "execute_result",
          "data": {
            "text/plain": [
              "<matplotlib.axes._subplots.AxesSubplot at 0x7fac4bd67748>"
            ]
          },
          "metadata": {
            "tags": []
          },
          "execution_count": 21
        },
        {
          "output_type": "display_data",
          "data": {
            "image/png": "[encoded data removed]",
            "text/plain": [
              "<Figure size 432x288 with 1 Axes>"
            ]
          },
          "metadata": {
            "tags": [],
            "needs_background": "light"
          }
        }
      ]
    },
    {
      "cell_type": "markdown",
      "metadata": {
        "id": "yId7QuupnISH",
        "colab_type": "text"
      },
      "source": [
        "# Granger causality test"
      ]
    },
    {
      "cell_type": "code",
      "metadata": {
        "id": "VOnGTYMFoJ8F",
        "colab_type": "code",
        "colab": {
          "base_uri": "https://localhost:8080/",
          "height": 71
        },
        "outputId": "eaaa8b12-e729-407f-bb57-08b9cb5390df"
      },
      "source": [
        "from statsmodels.tsa.stattools import grangercausalitytests\n",
        "# https://www.statsmodels.org/dev/generated/statsmodels.tsa.stattools.grangercausalitytests.html\n",
        "# The data for test whether the time series in the second column Granger causes the time series in the first column. Missing values are not supported."
      ],
      "execution_count": 22,
      "outputs": [
        {
          "output_type": "stream",
          "text": [
            "/usr/local/lib/python3.6/dist-packages/statsmodels/tools/_testing.py:19: FutureWarning: pandas.util.testing is deprecated. Use the functions in the public API at pandas.testing instead.\n",
            "  import pandas.util.testing as tm\n"
          ],
          "name": "stderr"
        }
      ]
    },
    {
      "cell_type": "code",
      "metadata": {
        "id": "o4fQSiHPnKNf",
        "colab_type": "code",
        "colab": {
          "base_uri": "https://localhost:8080/",
          "height": 142
        },
        "outputId": "2c28e989-e134-4ddf-fc97-6502d226617a"
      },
      "source": [
        "df.head(2)"
      ],
      "execution_count": 23,
      "outputs": [
        {
          "output_type": "execute_result",
          "data": {
            "text/html": [
              "<div>\n",
              "<style scoped>\n",
              "    .dataframe tbody tr th:only-of-type {\n",
              "        vertical-align: middle;\n",
              "    }\n",
              "\n",
              "    .dataframe tbody tr th {\n",
              "        vertical-align: top;\n",
              "    }\n",
              "\n",
              "    .dataframe thead th {\n",
              "        text-align: right;\n",
              "    }\n",
              "</style>\n",
              "<table border=\"1\" class=\"dataframe\">\n",
              "  <thead>\n",
              "    <tr style=\"text-align: right;\">\n",
              "      <th></th>\n",
              "      <th>positive</th>\n",
              "      <th>pcr_test</th>\n",
              "      <th>cumsum_death</th>\n",
              "      <th>percent_positive</th>\n",
              "      <th>death</th>\n",
              "    </tr>\n",
              "    <tr>\n",
              "      <th>date</th>\n",
              "      <th></th>\n",
              "      <th></th>\n",
              "      <th></th>\n",
              "      <th></th>\n",
              "      <th></th>\n",
              "    </tr>\n",
              "  </thead>\n",
              "  <tbody>\n",
              "    <tr>\n",
              "      <th>2020/2/14</th>\n",
              "      <td>7</td>\n",
              "      <td>43</td>\n",
              "      <td>1</td>\n",
              "      <td>16.279070</td>\n",
              "      <td>1</td>\n",
              "    </tr>\n",
              "    <tr>\n",
              "      <th>2020/2/15</th>\n",
              "      <td>12</td>\n",
              "      <td>86</td>\n",
              "      <td>1</td>\n",
              "      <td>13.953488</td>\n",
              "      <td>0</td>\n",
              "    </tr>\n",
              "  </tbody>\n",
              "</table>\n",
              "</div>"
            ],
            "text/plain": [
              "           positive  pcr_test  cumsum_death  percent_positive  death\n",
              "date                                                                \n",
              "2020/2/14         7        43             1         16.279070      1\n",
              "2020/2/15        12        86             1         13.953488      0"
            ]
          },
          "metadata": {
            "tags": []
          },
          "execution_count": 23
        }
      ]
    },
    {
      "cell_type": "code",
      "metadata": {
        "id": "mscvccVAngb8",
        "colab_type": "code",
        "colab": {
          "base_uri": "https://localhost:8080/",
          "height": 493
        },
        "outputId": "04375302-60a2-496d-caee-2e4c0593268d"
      },
      "source": [
        "df_select = df[[\"positive\", \"pcr_test\"]].pct_change().dropna()\n",
        "gc_res = grangercausalitytests(df_select, 4)"
      ],
      "execution_count": 24,
      "outputs": [
        {
          "output_type": "stream",
          "text": [
            "\n",
            "Granger Causality\n",
            "number of lags (no zero) 1\n",
            "ssr based F test:         F=23.1232 , p=0.0000  , df_denom=224, df_num=1\n",
            "ssr based chi2 test:   chi2=23.4329 , p=0.0000  , df=1\n",
            "likelihood ratio test: chi2=22.3007 , p=0.0000  , df=1\n",
            "parameter F test:         F=23.1232 , p=0.0000  , df_denom=224, df_num=1\n",
            "\n",
            "Granger Causality\n",
            "number of lags (no zero) 2\n",
            "ssr based F test:         F=11.6343 , p=0.0000  , df_denom=221, df_num=2\n",
            "ssr based chi2 test:   chi2=23.7951 , p=0.0000  , df=2\n",
            "likelihood ratio test: chi2=22.6240 , p=0.0000  , df=2\n",
            "parameter F test:         F=11.6343 , p=0.0000  , df_denom=221, df_num=2\n",
            "\n",
            "Granger Causality\n",
            "number of lags (no zero) 3\n",
            "ssr based F test:         F=7.2600  , p=0.0001  , df_denom=218, df_num=3\n",
            "ssr based chi2 test:   chi2=22.4794 , p=0.0001  , df=3\n",
            "likelihood ratio test: chi2=21.4261 , p=0.0001  , df=3\n",
            "parameter F test:         F=7.2600  , p=0.0001  , df_denom=218, df_num=3\n",
            "\n",
            "Granger Causality\n",
            "number of lags (no zero) 4\n",
            "ssr based F test:         F=5.3288  , p=0.0004  , df_denom=215, df_num=4\n",
            "ssr based chi2 test:   chi2=22.2076 , p=0.0002  , df=4\n",
            "likelihood ratio test: chi2=21.1745 , p=0.0003  , df=4\n",
            "parameter F test:         F=5.3288  , p=0.0004  , df_denom=215, df_num=4\n"
          ],
          "name": "stdout"
        }
      ]
    },
    {
      "cell_type": "code",
      "metadata": {
        "id": "lTg8kHFWngh6",
        "colab_type": "code",
        "colab": {}
      },
      "source": [
        "# df_select = df[[\"positive\", \"death\"]].pct_change().dropna()\n",
        "# gc_res = grangercausalitytests(df_select, 4)"
      ],
      "execution_count": 25,
      "outputs": []
    },
    {
      "cell_type": "code",
      "metadata": {
        "id": "HCSzQJvBopy3",
        "colab_type": "code",
        "colab": {
          "base_uri": "https://localhost:8080/",
          "height": 850
        },
        "outputId": "27a67556-0cf8-4a77-95d0-653b71681c59"
      },
      "source": [
        "# df_select = df[[\"death\", \"positive\"]].pct_change().dropna()\n",
        "df_select = df[[\"positive\", \"pcr_test\"]].pct_change().dropna()\n",
        "gc_res = grangercausalitytests(df_select, 7)"
      ],
      "execution_count": 26,
      "outputs": [
        {
          "output_type": "stream",
          "text": [
            "\n",
            "Granger Causality\n",
            "number of lags (no zero) 1\n",
            "ssr based F test:         F=23.1232 , p=0.0000  , df_denom=224, df_num=1\n",
            "ssr based chi2 test:   chi2=23.4329 , p=0.0000  , df=1\n",
            "likelihood ratio test: chi2=22.3007 , p=0.0000  , df=1\n",
            "parameter F test:         F=23.1232 , p=0.0000  , df_denom=224, df_num=1\n",
            "\n",
            "Granger Causality\n",
            "number of lags (no zero) 2\n",
            "ssr based F test:         F=11.6343 , p=0.0000  , df_denom=221, df_num=2\n",
            "ssr based chi2 test:   chi2=23.7951 , p=0.0000  , df=2\n",
            "likelihood ratio test: chi2=22.6240 , p=0.0000  , df=2\n",
            "parameter F test:         F=11.6343 , p=0.0000  , df_denom=221, df_num=2\n",
            "\n",
            "Granger Causality\n",
            "number of lags (no zero) 3\n",
            "ssr based F test:         F=7.2600  , p=0.0001  , df_denom=218, df_num=3\n",
            "ssr based chi2 test:   chi2=22.4794 , p=0.0001  , df=3\n",
            "likelihood ratio test: chi2=21.4261 , p=0.0001  , df=3\n",
            "parameter F test:         F=7.2600  , p=0.0001  , df_denom=218, df_num=3\n",
            "\n",
            "Granger Causality\n",
            "number of lags (no zero) 4\n",
            "ssr based F test:         F=5.3288  , p=0.0004  , df_denom=215, df_num=4\n",
            "ssr based chi2 test:   chi2=22.2076 , p=0.0002  , df=4\n",
            "likelihood ratio test: chi2=21.1745 , p=0.0003  , df=4\n",
            "parameter F test:         F=5.3288  , p=0.0004  , df_denom=215, df_num=4\n",
            "\n",
            "Granger Causality\n",
            "number of lags (no zero) 5\n",
            "ssr based F test:         F=4.1954  , p=0.0012  , df_denom=212, df_num=5\n",
            "ssr based chi2 test:   chi2=22.0653 , p=0.0005  , df=5\n",
            "likelihood ratio test: chi2=21.0407 , p=0.0008  , df=5\n",
            "parameter F test:         F=4.1954  , p=0.0012  , df_denom=212, df_num=5\n",
            "\n",
            "Granger Causality\n",
            "number of lags (no zero) 6\n",
            "ssr based F test:         F=3.6371  , p=0.0019  , df_denom=209, df_num=6\n",
            "ssr based chi2 test:   chi2=23.1802 , p=0.0007  , df=6\n",
            "likelihood ratio test: chi2=22.0482 , p=0.0012  , df=6\n",
            "parameter F test:         F=3.6371  , p=0.0019  , df_denom=209, df_num=6\n",
            "\n",
            "Granger Causality\n",
            "number of lags (no zero) 7\n",
            "ssr based F test:         F=2.5742  , p=0.0145  , df_denom=206, df_num=7\n",
            "ssr based chi2 test:   chi2=19.3312 , p=0.0072  , df=7\n",
            "likelihood ratio test: chi2=18.5321 , p=0.0098  , df=7\n",
            "parameter F test:         F=2.5742  , p=0.0145  , df_denom=206, df_num=7\n"
          ],
          "name": "stdout"
        }
      ]
    },
    {
      "cell_type": "markdown",
      "metadata": {
        "id": "yilUWgXcptmO",
        "colab_type": "text"
      },
      "source": [
        "## Bayesian linear regression"
      ]
    },
    {
      "cell_type": "markdown",
      "metadata": {
        "id": "DlNZqjMtpvR0",
        "colab_type": "text"
      },
      "source": [
        "### equations\n",
        "$$\n",
        "\\begin{equation*}\n",
        "y_n \\sim Normal(\\alpha + \\beta_1 x_{n,1} + \\beta_2 x_{n,2},\\sigma) \\\\\n",
        "\\alpha, \\beta_1, \\beta_2 \\sim Normal(0,10) \\\\\n",
        "\\sigma \\sim Normal(0,1), \\textrm{restricted to } \\sigma > 0\n",
        "\\end{equation*}\n",
        "$$"
      ]
    },
    {
      "cell_type": "code",
      "metadata": {
        "id": "im7_srSh3dDA",
        "colab_type": "code",
        "colab": {
          "base_uri": "https://localhost:8080/",
          "height": 235
        },
        "outputId": "969bc933-ae99-45e3-cf61-2db372bdbd1e"
      },
      "source": [
        "df.head()"
      ],
      "execution_count": 27,
      "outputs": [
        {
          "output_type": "execute_result",
          "data": {
            "text/html": [
              "<div>\n",
              "<style scoped>\n",
              "    .dataframe tbody tr th:only-of-type {\n",
              "        vertical-align: middle;\n",
              "    }\n",
              "\n",
              "    .dataframe tbody tr th {\n",
              "        vertical-align: top;\n",
              "    }\n",
              "\n",
              "    .dataframe thead th {\n",
              "        text-align: right;\n",
              "    }\n",
              "</style>\n",
              "<table border=\"1\" class=\"dataframe\">\n",
              "  <thead>\n",
              "    <tr style=\"text-align: right;\">\n",
              "      <th></th>\n",
              "      <th>positive</th>\n",
              "      <th>pcr_test</th>\n",
              "      <th>cumsum_death</th>\n",
              "      <th>percent_positive</th>\n",
              "      <th>death</th>\n",
              "    </tr>\n",
              "    <tr>\n",
              "      <th>date</th>\n",
              "      <th></th>\n",
              "      <th></th>\n",
              "      <th></th>\n",
              "      <th></th>\n",
              "      <th></th>\n",
              "    </tr>\n",
              "  </thead>\n",
              "  <tbody>\n",
              "    <tr>\n",
              "      <th>2020/2/14</th>\n",
              "      <td>7</td>\n",
              "      <td>43</td>\n",
              "      <td>1</td>\n",
              "      <td>16.279070</td>\n",
              "      <td>1</td>\n",
              "    </tr>\n",
              "    <tr>\n",
              "      <th>2020/2/15</th>\n",
              "      <td>12</td>\n",
              "      <td>86</td>\n",
              "      <td>1</td>\n",
              "      <td>13.953488</td>\n",
              "      <td>0</td>\n",
              "    </tr>\n",
              "    <tr>\n",
              "      <th>2020/2/16</th>\n",
              "      <td>6</td>\n",
              "      <td>65</td>\n",
              "      <td>1</td>\n",
              "      <td>9.230769</td>\n",
              "      <td>0</td>\n",
              "    </tr>\n",
              "    <tr>\n",
              "      <th>2020/2/17</th>\n",
              "      <td>7</td>\n",
              "      <td>113</td>\n",
              "      <td>1</td>\n",
              "      <td>6.194690</td>\n",
              "      <td>0</td>\n",
              "    </tr>\n",
              "    <tr>\n",
              "      <th>2020/2/18</th>\n",
              "      <td>7</td>\n",
              "      <td>9</td>\n",
              "      <td>1</td>\n",
              "      <td>77.777778</td>\n",
              "      <td>0</td>\n",
              "    </tr>\n",
              "  </tbody>\n",
              "</table>\n",
              "</div>"
            ],
            "text/plain": [
              "           positive  pcr_test  cumsum_death  percent_positive  death\n",
              "date                                                                \n",
              "2020/2/14         7        43             1         16.279070      1\n",
              "2020/2/15        12        86             1         13.953488      0\n",
              "2020/2/16         6        65             1          9.230769      0\n",
              "2020/2/17         7       113             1          6.194690      0\n",
              "2020/2/18         7         9             1         77.777778      0"
            ]
          },
          "metadata": {
            "tags": []
          },
          "execution_count": 27
        }
      ]
    },
    {
      "cell_type": "code",
      "metadata": {
        "id": "IMxycvaI3V7b",
        "colab_type": "code",
        "colab": {
          "base_uri": "https://localhost:8080/",
          "height": 235
        },
        "outputId": "f0240677-1e33-4163-a024-e32d0432a892"
      },
      "source": [
        "df_select = df.loc[:'2020/5/27']\n",
        "df_select.tail()"
      ],
      "execution_count": 28,
      "outputs": [
        {
          "output_type": "execute_result",
          "data": {
            "text/html": [
              "<div>\n",
              "<style scoped>\n",
              "    .dataframe tbody tr th:only-of-type {\n",
              "        vertical-align: middle;\n",
              "    }\n",
              "\n",
              "    .dataframe tbody tr th {\n",
              "        vertical-align: top;\n",
              "    }\n",
              "\n",
              "    .dataframe thead th {\n",
              "        text-align: right;\n",
              "    }\n",
              "</style>\n",
              "<table border=\"1\" class=\"dataframe\">\n",
              "  <thead>\n",
              "    <tr style=\"text-align: right;\">\n",
              "      <th></th>\n",
              "      <th>positive</th>\n",
              "      <th>pcr_test</th>\n",
              "      <th>cumsum_death</th>\n",
              "      <th>percent_positive</th>\n",
              "      <th>death</th>\n",
              "    </tr>\n",
              "    <tr>\n",
              "      <th>date</th>\n",
              "      <th></th>\n",
              "      <th></th>\n",
              "      <th></th>\n",
              "      <th></th>\n",
              "      <th></th>\n",
              "    </tr>\n",
              "  </thead>\n",
              "  <tbody>\n",
              "    <tr>\n",
              "      <th>2020/5/23</th>\n",
              "      <td>29</td>\n",
              "      <td>2769</td>\n",
              "      <td>820</td>\n",
              "      <td>1.047309</td>\n",
              "      <td>12</td>\n",
              "    </tr>\n",
              "    <tr>\n",
              "      <th>2020/5/24</th>\n",
              "      <td>40</td>\n",
              "      <td>1252</td>\n",
              "      <td>830</td>\n",
              "      <td>3.194888</td>\n",
              "      <td>10</td>\n",
              "    </tr>\n",
              "    <tr>\n",
              "      <th>2020/5/25</th>\n",
              "      <td>20</td>\n",
              "      <td>3620</td>\n",
              "      <td>846</td>\n",
              "      <td>0.552486</td>\n",
              "      <td>16</td>\n",
              "    </tr>\n",
              "    <tr>\n",
              "      <th>2020/5/26</th>\n",
              "      <td>27</td>\n",
              "      <td>2994</td>\n",
              "      <td>858</td>\n",
              "      <td>0.901804</td>\n",
              "      <td>12</td>\n",
              "    </tr>\n",
              "    <tr>\n",
              "      <th>2020/5/27</th>\n",
              "      <td>37</td>\n",
              "      <td>3004</td>\n",
              "      <td>867</td>\n",
              "      <td>1.231691</td>\n",
              "      <td>9</td>\n",
              "    </tr>\n",
              "  </tbody>\n",
              "</table>\n",
              "</div>"
            ],
            "text/plain": [
              "           positive  pcr_test  cumsum_death  percent_positive  death\n",
              "date                                                                \n",
              "2020/5/23        29      2769           820          1.047309     12\n",
              "2020/5/24        40      1252           830          3.194888     10\n",
              "2020/5/25        20      3620           846          0.552486     16\n",
              "2020/5/26        27      2994           858          0.901804     12\n",
              "2020/5/27        37      3004           867          1.231691      9"
            ]
          },
          "metadata": {
            "tags": []
          },
          "execution_count": 28
        }
      ]
    },
    {
      "cell_type": "code",
      "metadata": {
        "id": "w3Hc9TZT2JRs",
        "colab_type": "code",
        "colab": {}
      },
      "source": [
        "# #### get actual data\n",
        "# Input variables\n",
        "X1 = df_select[\"positive\"].values\n",
        "X2 = df_select[\"pcr_test\"].values\n",
        "\n",
        "# Output variable\n",
        "Y = df_select[\"death\"].values"
      ],
      "execution_count": 29,
      "outputs": []
    },
    {
      "cell_type": "code",
      "metadata": {
        "id": "lhUtuU6e2aYh",
        "colab_type": "code",
        "colab": {
          "base_uri": "https://localhost:8080/",
          "height": 279
        },
        "outputId": "9512dd91-e56d-426c-8aa7-3815682c30a9"
      },
      "source": [
        "fig, axes = plt.subplots(1, 2, sharex=True, figsize=(10,4))\n",
        "axes[0].scatter(X1, Y)\n",
        "axes[1].scatter(X2, Y)\n",
        "axes[0].set_ylabel('Y'); axes[0].set_xlabel('X1'); axes[1].set_xlabel('X2');"
      ],
      "execution_count": 30,
      "outputs": [
        {
          "output_type": "display_data",
          "data": {
            "image/png": "[encoded data removed]",
            "text/plain": [
              "<Figure size 720x288 with 2 Axes>"
            ]
          },
          "metadata": {
            "tags": [],
            "needs_background": "light"
          }
        }
      ]
    },
    {
      "cell_type": "code",
      "metadata": {
        "id": "v-1wDi_9oAoS",
        "colab_type": "code",
        "colab": {
          "base_uri": "https://localhost:8080/",
          "height": 122
        },
        "outputId": "a1d5cc62-2ef3-4073-a9b1-c69d370af621"
      },
      "source": [
        "# #### model specification\n",
        "with pm.Model() as linear_model:\n",
        "\n",
        "    # Priors for unknown model parameters\n",
        "    alpha = pm.Normal('alpha', mu=0, sd=10)\n",
        "    beta = pm.Normal('beta', mu=0, sd=10, shape=2)\n",
        "    sigma = pm.HalfNormal('sigma', sd=1)\n",
        "\n",
        "    # Expected value of outcome\n",
        "    mu = alpha + beta[0]*X1 + beta[1]*X2\n",
        "\n",
        "    # Likelihood (sampling distribution) of observations\n",
        "    Y_obs = pm.Normal('Y_obs', mu=mu, sd=sigma, observed=Y)\n",
        "\n",
        "display(linear_model)"
      ],
      "execution_count": 31,
      "outputs": [
        {
          "output_type": "display_data",
          "data": {
            "text/latex": "$$\n            \\begin{array}{rcl}\n            \\text{alpha} &\\sim & \\text{Normal}(\\mathit{mu}=0.0,~\\mathit{sigma}=10.0)\\\\\\text{beta} &\\sim & \\text{Normal}(\\mathit{mu}=0.0,~\\mathit{sigma}=10.0)\\\\\\text{sigma} &\\sim & \\text{HalfNormal}(\\mathit{sigma}=1.0)\\\\\\text{Y_obs} &\\sim & \\text{Normal}(\\mathit{mu}=f(f(f(\\text{alpha}),~f(f(f(\\text{beta})),~array)),~f(f(f(\\text{beta})),~array)),~\\mathit{sigma}=f(\\text{sigma}))\n            \\end{array}\n            $$",
            "text/plain": [
              "<pymc3.model.Model at 0x7fac4b743898>"
            ]
          },
          "metadata": {
            "tags": []
          }
        }
      ]
    },
    {
      "cell_type": "markdown",
      "metadata": {
        "id": "QvRzJjT2oTUp",
        "colab_type": "text"
      },
      "source": [
        "\\begin{array}{rcl}\n",
        "            \\text{alpha} &\\sim & \\text{Normal}(\\mathit{mu}=0.0,~\\mathit{sigma}=10.0)\\\\\\text{beta} &\\sim & \\text{Normal}(\\mathit{mu}=0.0,~\\mathit{sigma}=10.0)\\\\\\text{sigma} &\\sim & \\text{HalfNormal}(\\mathit{sigma}=1.0)\\\\\\text{Y_obs} &\\sim & \\text{Normal}(\\mathit{mu}=f(f(f(\\text{alpha}),~f(f(f(\\text{beta})),~array)),~f(f(f(\\text{beta})),~array)),~\\mathit{sigma}=f(\\text{sigma}))\n",
        "            \\end{array}"
      ]
    },
    {
      "cell_type": "code",
      "metadata": {
        "id": "W-mAd_cCtbV_",
        "colab_type": "code",
        "colab": {
          "base_uri": "https://localhost:8080/",
          "height": 46
        },
        "outputId": "e644a2ee-b2c7-426a-de3c-303654d4e048"
      },
      "source": [
        "Markdown(f\"{linear_model}\")"
      ],
      "execution_count": 32,
      "outputs": [
        {
          "output_type": "execute_result",
          "data": {
            "text/markdown": "<pymc3.model.Model object at 0x7fac4b743898>",
            "text/plain": [
              "<IPython.core.display.Markdown object>"
            ]
          },
          "metadata": {
            "tags": []
          },
          "execution_count": 32
        }
      ]
    },
    {
      "cell_type": "code",
      "metadata": {
        "id": "fxwHDsR43igl",
        "colab_type": "code",
        "colab": {
          "base_uri": "https://localhost:8080/",
          "height": 826
        },
        "outputId": "82acb47b-2944-4275-e5f8-a33a19aba865"
      },
      "source": [
        "# MCMC sampling\n",
        "def mcmc_sampling(model):\n",
        "    with model:\n",
        "        # instantiate sampler\n",
        "        step = pm.Slice()\n",
        "\n",
        "        # #### model fitting\n",
        "        map_estimate = pm.find_MAP(model=model) # finding the maximum a posteriori\n",
        "        print (\"map_estimate\",map_estimate)\n",
        "\n",
        "        # draw 5000 posterior samples\n",
        "        trace = pm.sample(5000, step=step, start=map_estimate)\n",
        "    return model, trace\n",
        "linear_model, linear_trace = mcmc_sampling(linear_model)\n",
        "# plot trace\n",
        "pm.traceplot(linear_trace)"
      ],
      "execution_count": 33,
      "outputs": [
        {
          "output_type": "display_data",
          "data": {
            "text/html": [
              "\n",
              "    <div>\n",
              "        <style>\n",
              "            /* Turns off some styling */\n",
              "            progress {\n",
              "                /* gets rid of default border in Firefox and Opera. */\n",
              "                border: none;\n",
              "                /* Needs to be in here for Safari polyfill so background images work as expected. */\n",
              "                background-size: auto;\n",
              "            }\n",
              "            .progress-bar-interrupted, .progress-bar-interrupted::-webkit-progress-bar {\n",
              "                background: #F44336;\n",
              "            }\n",
              "        </style>\n",
              "      <progress value='41' class='' max='41' style='width:300px; height:20px; vertical-align: middle;'></progress>\n",
              "      100.00% [41/41 00:00<00:00 logp = -441.64, ||grad|| = 2.6971]\n",
              "    </div>\n",
              "    "
            ],
            "text/plain": [
              "<IPython.core.display.HTML object>"
            ]
          },
          "metadata": {
            "tags": []
          }
        },
        {
          "output_type": "stream",
          "text": [
            "Sequential sampling (2 chains in 1 job)\n",
            "CompoundStep\n",
            ">Slice: [sigma]\n",
            ">Slice: [beta]\n",
            ">Slice: [alpha]\n"
          ],
          "name": "stderr"
        },
        {
          "output_type": "stream",
          "text": [
            "\n",
            "map_estimate {'alpha': array(3.15500713), 'beta': array([0.00970717, 0.0015023 ]), 'sigma_log__': array(2.13992482), 'sigma': array(8.4987987)}\n"
          ],
          "name": "stdout"
        },
        {
          "output_type": "display_data",
          "data": {
            "text/html": [
              "\n",
              "    <div>\n",
              "        <style>\n",
              "            /* Turns off some styling */\n",
              "            progress {\n",
              "                /* gets rid of default border in Firefox and Opera. */\n",
              "                border: none;\n",
              "                /* Needs to be in here for Safari polyfill so background images work as expected. */\n",
              "                background-size: auto;\n",
              "            }\n",
              "            .progress-bar-interrupted, .progress-bar-interrupted::-webkit-progress-bar {\n",
              "                background: #F44336;\n",
              "            }\n",
              "        </style>\n",
              "      <progress value='6000' class='' max='6000' style='width:300px; height:20px; vertical-align: middle;'></progress>\n",
              "      100.00% [6000/6000 00:08<00:00 Sampling chain 0, 0 divergences]\n",
              "    </div>\n",
              "    "
            ],
            "text/plain": [
              "<IPython.core.display.HTML object>"
            ]
          },
          "metadata": {
            "tags": []
          }
        },
        {
          "output_type": "display_data",
          "data": {
            "text/html": [
              "\n",
              "    <div>\n",
              "        <style>\n",
              "            /* Turns off some styling */\n",
              "            progress {\n",
              "                /* gets rid of default border in Firefox and Opera. */\n",
              "                border: none;\n",
              "                /* Needs to be in here for Safari polyfill so background images work as expected. */\n",
              "                background-size: auto;\n",
              "            }\n",
              "            .progress-bar-interrupted, .progress-bar-interrupted::-webkit-progress-bar {\n",
              "                background: #F44336;\n",
              "            }\n",
              "        </style>\n",
              "      <progress value='6000' class='' max='6000' style='width:300px; height:20px; vertical-align: middle;'></progress>\n",
              "      100.00% [6000/6000 00:08<00:00 Sampling chain 1, 0 divergences]\n",
              "    </div>\n",
              "    "
            ],
            "text/plain": [
              "<IPython.core.display.HTML object>"
            ]
          },
          "metadata": {
            "tags": []
          }
        },
        {
          "output_type": "stream",
          "text": [
            "Sampling 2 chains for 1_000 tune and 5_000 draw iterations (2_000 + 10_000 draws total) took 16 seconds.\n",
            "/usr/local/lib/python3.6/dist-packages/arviz/data/io_pymc3.py:91: FutureWarning: Using `from_pymc3` without the model will be deprecated in a future release. Not using the model will return less accurate and less useful results. Make sure you use the model argument or call from_pymc3 within a model context.\n",
            "  FutureWarning,\n"
          ],
          "name": "stderr"
        },
        {
          "output_type": "execute_result",
          "data": {
            "text/plain": [
              "array([[<matplotlib.axes._subplots.AxesSubplot object at 0x7fac3fedcda0>,\n",
              "        <matplotlib.axes._subplots.AxesSubplot object at 0x7fac45b17518>],\n",
              "       [<matplotlib.axes._subplots.AxesSubplot object at 0x7fac44a919b0>,\n",
              "        <matplotlib.axes._subplots.AxesSubplot object at 0x7fac44c79ba8>],\n",
              "       [<matplotlib.axes._subplots.AxesSubplot object at 0x7fac45dc5710>,\n",
              "        <matplotlib.axes._subplots.AxesSubplot object at 0x7fac45e025c0>]],\n",
              "      dtype=object)"
            ]
          },
          "metadata": {
            "tags": []
          },
          "execution_count": 33
        },
        {
          "output_type": "display_data",
          "data": {
            "image/png": "[encoded data removed]",
            "text/plain": [
              "<Figure size 864x432 with 6 Axes>"
            ]
          },
          "metadata": {
            "tags": [],
            "needs_background": "light"
          }
        }
      ]
    },
    {
      "cell_type": "code",
      "metadata": {
        "id": "flFsyAT43iow",
        "colab_type": "code",
        "colab": {
          "base_uri": "https://localhost:8080/",
          "height": 227
        },
        "outputId": "19fcb952-65bb-40da-9f97-89b0bc683865"
      },
      "source": [
        "linear_model_summary = pm.summary(linear_trace).round(4)\n",
        "linear_model_summary"
      ],
      "execution_count": 34,
      "outputs": [
        {
          "output_type": "stream",
          "text": [
            "/usr/local/lib/python3.6/dist-packages/arviz/data/io_pymc3.py:91: FutureWarning: Using `from_pymc3` without the model will be deprecated in a future release. Not using the model will return less accurate and less useful results. Make sure you use the model argument or call from_pymc3 within a model context.\n",
            "  FutureWarning,\n"
          ],
          "name": "stderr"
        },
        {
          "output_type": "execute_result",
          "data": {
            "text/html": [
              "<div>\n",
              "<style scoped>\n",
              "    .dataframe tbody tr th:only-of-type {\n",
              "        vertical-align: middle;\n",
              "    }\n",
              "\n",
              "    .dataframe tbody tr th {\n",
              "        vertical-align: top;\n",
              "    }\n",
              "\n",
              "    .dataframe thead th {\n",
              "        text-align: right;\n",
              "    }\n",
              "</style>\n",
              "<table border=\"1\" class=\"dataframe\">\n",
              "  <thead>\n",
              "    <tr style=\"text-align: right;\">\n",
              "      <th></th>\n",
              "      <th>mean</th>\n",
              "      <th>sd</th>\n",
              "      <th>hdi_3%</th>\n",
              "      <th>hdi_97%</th>\n",
              "      <th>mcse_mean</th>\n",
              "      <th>mcse_sd</th>\n",
              "      <th>ess_mean</th>\n",
              "      <th>ess_sd</th>\n",
              "      <th>ess_bulk</th>\n",
              "      <th>ess_tail</th>\n",
              "      <th>r_hat</th>\n",
              "    </tr>\n",
              "  </thead>\n",
              "  <tbody>\n",
              "    <tr>\n",
              "      <th>alpha</th>\n",
              "      <td>3.091</td>\n",
              "      <td>1.287</td>\n",
              "      <td>0.615</td>\n",
              "      <td>5.460</td>\n",
              "      <td>0.022</td>\n",
              "      <td>0.016</td>\n",
              "      <td>3339.0</td>\n",
              "      <td>3339.0</td>\n",
              "      <td>3340.0</td>\n",
              "      <td>4814.0</td>\n",
              "      <td>1.0</td>\n",
              "    </tr>\n",
              "    <tr>\n",
              "      <th>beta[0]</th>\n",
              "      <td>0.009</td>\n",
              "      <td>0.005</td>\n",
              "      <td>0.001</td>\n",
              "      <td>0.018</td>\n",
              "      <td>0.000</td>\n",
              "      <td>0.000</td>\n",
              "      <td>3973.0</td>\n",
              "      <td>3973.0</td>\n",
              "      <td>3976.0</td>\n",
              "      <td>5294.0</td>\n",
              "      <td>1.0</td>\n",
              "    </tr>\n",
              "    <tr>\n",
              "      <th>beta[1]</th>\n",
              "      <td>0.002</td>\n",
              "      <td>0.000</td>\n",
              "      <td>0.001</td>\n",
              "      <td>0.002</td>\n",
              "      <td>0.000</td>\n",
              "      <td>0.000</td>\n",
              "      <td>3388.0</td>\n",
              "      <td>3339.0</td>\n",
              "      <td>3389.0</td>\n",
              "      <td>4359.0</td>\n",
              "      <td>1.0</td>\n",
              "    </tr>\n",
              "    <tr>\n",
              "      <th>sigma</th>\n",
              "      <td>8.585</td>\n",
              "      <td>0.386</td>\n",
              "      <td>7.874</td>\n",
              "      <td>9.312</td>\n",
              "      <td>0.004</td>\n",
              "      <td>0.003</td>\n",
              "      <td>9678.0</td>\n",
              "      <td>9641.0</td>\n",
              "      <td>9702.0</td>\n",
              "      <td>7253.0</td>\n",
              "      <td>1.0</td>\n",
              "    </tr>\n",
              "  </tbody>\n",
              "</table>\n",
              "</div>"
            ],
            "text/plain": [
              "          mean     sd  hdi_3%  hdi_97%  ...  ess_sd  ess_bulk  ess_tail  r_hat\n",
              "alpha    3.091  1.287   0.615    5.460  ...  3339.0    3340.0    4814.0    1.0\n",
              "beta[0]  0.009  0.005   0.001    0.018  ...  3973.0    3976.0    5294.0    1.0\n",
              "beta[1]  0.002  0.000   0.001    0.002  ...  3339.0    3389.0    4359.0    1.0\n",
              "sigma    8.585  0.386   7.874    9.312  ...  9641.0    9702.0    7253.0    1.0\n",
              "\n",
              "[4 rows x 11 columns]"
            ]
          },
          "metadata": {
            "tags": []
          },
          "execution_count": 34
        }
      ]
    },
    {
      "cell_type": "code",
      "metadata": {
        "id": "fXGZ6kqyykWu",
        "colab_type": "code",
        "colab": {
          "base_uri": "https://localhost:8080/",
          "height": 320
        },
        "outputId": "a2765afc-a0f0-4643-95ef-3ac1fafd82c0"
      },
      "source": [
        "pm.plot_posterior(linear_trace)"
      ],
      "execution_count": 35,
      "outputs": [
        {
          "output_type": "stream",
          "text": [
            "/usr/local/lib/python3.6/dist-packages/arviz/data/io_pymc3.py:91: FutureWarning: Using `from_pymc3` without the model will be deprecated in a future release. Not using the model will return less accurate and less useful results. Make sure you use the model argument or call from_pymc3 within a model context.\n",
            "  FutureWarning,\n"
          ],
          "name": "stderr"
        },
        {
          "output_type": "execute_result",
          "data": {
            "text/plain": [
              "array([<matplotlib.axes._subplots.AxesSubplot object at 0x7fac44c3e7f0>,\n",
              "       <matplotlib.axes._subplots.AxesSubplot object at 0x7fac3da78908>,\n",
              "       <matplotlib.axes._subplots.AxesSubplot object at 0x7fac44b19a20>,\n",
              "       <matplotlib.axes._subplots.AxesSubplot object at 0x7fac44b8dba8>],\n",
              "      dtype=object)"
            ]
          },
          "metadata": {
            "tags": []
          },
          "execution_count": 35
        },
        {
          "output_type": "display_data",
          "data": {
            "image/png": "[encoded data removed]",
            "text/plain": [
              "<Figure size 1987.2x331.2 with 4 Axes>"
            ]
          },
          "metadata": {
            "tags": [],
            "needs_background": "light"
          }
        }
      ]
    },
    {
      "cell_type": "code",
      "metadata": {
        "id": "RlegFTdxz9ZS",
        "colab_type": "code",
        "colab": {}
      },
      "source": [
        "def predict_linear_model(linear_model_summary, X1, X2):\n",
        "    f_alpha = linear_model_summary[\"mean\"][\"alpha\"]\n",
        "    f_beta0 = linear_model_summary[\"mean\"][\"beta[0]\"]\n",
        "    f_beta1 = linear_model_summary[\"mean\"][\"beta[1]\"]\n",
        "    f_sigma = linear_model_summary[\"mean\"][\"sigma\"]\n",
        "\n",
        "    Y_predict = f_alpha + f_beta0*X1 + f_beta1*X2\n",
        "    return Y_predict      \n",
        "Y_predict = predict_linear_model(linear_model_summary, X1, X2)"
      ],
      "execution_count": 36,
      "outputs": []
    },
    {
      "cell_type": "code",
      "metadata": {
        "id": "zc0a4Ufu6i_Q",
        "colab_type": "code",
        "colab": {
          "base_uri": "https://localhost:8080/",
          "height": 279
        },
        "outputId": "8ca17820-c89d-4b43-8781-d18bea3aa283"
      },
      "source": [
        "fig, axes = plt.subplots(1, 2, sharex=True, figsize=(10,4))\n",
        "axes[0].scatter(X1, Y)\n",
        "axes[0].scatter(X1, Y_predict)\n",
        "axes[1].scatter(X2, Y)\n",
        "axes[1].scatter(X2, Y_predict)\n",
        "axes[0].set_ylabel('Y'); axes[0].set_xlabel('X1'); axes[1].set_xlabel('X2');"
      ],
      "execution_count": 37,
      "outputs": [
        {
          "output_type": "display_data",
          "data": {
            "image/png": "[encoded data removed]",
            "text/plain": [
              "<Figure size 720x288 with 2 Axes>"
            ]
          },
          "metadata": {
            "tags": [],
            "needs_background": "light"
          }
        }
      ]
    },
    {
      "cell_type": "code",
      "metadata": {
        "id": "Dt-xY9lVtsWN",
        "colab_type": "code",
        "colab": {
          "base_uri": "https://localhost:8080/",
          "height": 238
        },
        "outputId": "39155f73-b804-42d1-8bc1-e2f81803e081"
      },
      "source": [
        "Y_predict"
      ],
      "execution_count": 38,
      "outputs": [
        {
          "output_type": "execute_result",
          "data": {
            "text/plain": [
              "array([ 3.24 ,  3.371,  3.275,  3.38 ,  3.172,  3.323,  3.352,  3.36 ,\n",
              "        3.526,  3.277,  3.407,  3.251,  3.625,  3.609,  3.531,  3.528,\n",
              "        3.418,  3.359,  3.541, 11.268,  4.768,  4.728,  3.808,  3.608,\n",
              "        5.953,  4.425,  3.921,  7.296,  5.169,  3.863,  3.472,  7.392,\n",
              "        3.893, 10.395,  3.806,  3.661,  3.581, 11.157,  5.276,  7.565,\n",
              "        6.911,  5.429,  5.168, 10.719,  8.881, 14.738, 12.734,  6.963,\n",
              "        7.001, 21.273, 15.572, 10.807, 13.921, 20.241, 12.463,  8.344,\n",
              "       24.592, 24.2  ,  9.076, 19.105, 16.564, 10.409, 12.345, 20.008,\n",
              "       17.541, 15.971, 17.794, 17.524,  8.957,  7.352, 21.882, 12.135,\n",
              "        6.892, 21.134, 19.125,  7.569,  6.951,  7.348,  7.309,  4.939,\n",
              "       29.965, 25.252,  8.593, 11.693, 15.527,  4.387, 23.725, 15.723,\n",
              "        9.743, 12.278, 13.335, 15.321,  9.812, 10.771, 12.638, 10.36 ,\n",
              "        8.89 ,  5.955, 10.511,  9.322,  9.432])"
            ]
          },
          "metadata": {
            "tags": []
          },
          "execution_count": 38
        }
      ]
    },
    {
      "cell_type": "code",
      "metadata": {
        "id": "9h7uwhsN62lw",
        "colab_type": "code",
        "colab": {
          "base_uri": "https://localhost:8080/",
          "height": 34
        },
        "outputId": "760fcad3-c0bc-4782-d5d4-77363ed4766f"
      },
      "source": [
        "max(X1), max(X2), max(Y)"
      ],
      "execution_count": 39,
      "outputs": [
        {
          "output_type": "execute_result",
          "data": {
            "text/plain": [
              "(708, 13005, 91)"
            ]
          },
          "metadata": {
            "tags": []
          },
          "execution_count": 39
        }
      ]
    },
    {
      "cell_type": "code",
      "metadata": {
        "id": "vGek4dsi59ju",
        "colab_type": "code",
        "colab": {
          "base_uri": "https://localhost:8080/",
          "height": 68
        },
        "outputId": "56e48560-889a-479e-ca8c-124f9d7c71e0"
      },
      "source": [
        "print (predict_linear_model(linear_model_summary, 10, 100000))\n",
        "print (predict_linear_model(linear_model_summary, 1000, 100000))\n",
        "print (predict_linear_model(linear_model_summary, 1000, 10000))"
      ],
      "execution_count": 40,
      "outputs": [
        {
          "output_type": "stream",
          "text": [
            "203.181\n",
            "212.091\n",
            "32.091\n"
          ],
          "name": "stdout"
        }
      ]
    },
    {
      "cell_type": "markdown",
      "metadata": {
        "id": "4Zy-MIGkvs8x",
        "colab_type": "text"
      },
      "source": [
        "## causal model"
      ]
    },
    {
      "cell_type": "code",
      "metadata": {
        "id": "wB6X5Ezvlmba",
        "colab_type": "code",
        "colab": {}
      },
      "source": [
        "# import pymc3 as pm\n",
        "# import numpy as np\n",
        "\n",
        "# import theano\n",
        "# import theano.tensor as tt\n",
        "\n",
        "# lookup_table = theano.shared(np.asarray([\n",
        "#     [[.99, .01], [.1, .9]],\n",
        "#     [[.9, .1], [.1, .9]]]))\n",
        "\n",
        "# def f(smoker, covid):\n",
        "#     return lookup_table[smoker, covid]\n",
        "\n",
        "# with pm.Model() as m:\n",
        "#     smoker = pm.Categorical('smoker', [.75, .25])\n",
        "#     covid = pm.Categorical('covid', [.9, .1])\n",
        "#     hospital = pm.Categorical('hospital', f(smoker, covid))\n",
        "#     prior_trace = pm.sample_prior_predictive(100000)\n",
        "\n",
        "# predict_proba0 = prior_trace['covid'][\n",
        "#     (prior_trace['smoker'] == 0)\n",
        "#   & (prior_trace['hospital'] == 1)].mean()\n",
        "# predict_proba1 = prior_trace['covid'][\n",
        "#     (prior_trace['smoker'] == 1)\n",
        "#   & (prior_trace['hospital'] == 1)].mean()\n",
        "# print(f'P(covid|¬smoking, hospital) is {predict_proba0}')\n",
        "# print(f'P(covid|smoking, hospital) is {predict_proba1}')"
      ],
      "execution_count": 43,
      "outputs": []
    },
    {
      "cell_type": "code",
      "metadata": {
        "id": "pjdJAxTnmPSb",
        "colab_type": "code",
        "colab": {}
      },
      "source": [
        "# import pymc3 as pm\n",
        "# import numpy as np\n",
        "\n",
        "# import theano\n",
        "# import theano.tensor as tt\n",
        "\n",
        "# lookup_table = theano.shared(np.asarray([\n",
        "#     [[.99, .01], [.1, .9]],\n",
        "#     [[.9, .1], [.1, .9]]]))\n",
        "\n",
        "# def f(smoker, covid):\n",
        "#     return lookup_table[smoker, covid]\n",
        "\n",
        "# with pm.Model() as causal_model:\n",
        "#     smoker = pm.Bernoulli('smoker', .2, observed=df[\"positive\"].values)\n",
        "#     covid = pm.Bernoulli('covid', .9)\n",
        "#     hospital = pm.Bernoulli('hospital', f(smoker, covid))\n",
        "#     # smoker = pm.Categorical('smoker', [.75, .25])\n",
        "#     # covid = pm.Categorical('covid', [.9, .1])\n",
        "#     # hospital = pm.Categorical('hospital', f(smoker, covid))\n",
        "#     prior_trace = pm.sample_prior_predictive(100000)\n",
        "\n",
        "# predict_proba0 = prior_trace['covid'][\n",
        "#     (prior_trace['smoker'] == 0)\n",
        "#   & (prior_trace['hospital'] == 1)].mean()\n",
        "# predict_proba1 = prior_trace['covid'][\n",
        "#     (prior_trace['smoker'] == 1)\n",
        "#   & (prior_trace['hospital'] == 1)].mean()\n",
        "# print(f'P(covid|¬smoking, hospital) is {predict_proba0}')\n",
        "# print(f'P(covid|smoking, hospital) is {predict_proba1}')"
      ],
      "execution_count": 44,
      "outputs": []
    },
    {
      "cell_type": "code",
      "metadata": {
        "id": "epL6LolqmUU9",
        "colab_type": "code",
        "colab": {}
      },
      "source": [
        "# with pm.Model() as causal_model:\n",
        "#     R = pm.Bernoulli('R', .2, observed=df[\"positive\"].values)\n",
        "#     print (np.where(R, .01, .4))\n",
        "#     print (lambda R=R: np.where(R, .01, .4))\n",
        "#     print (\"R\", R)\n",
        "\n",
        "#     p_S = pm.Normal('p_S', mu=0, sigma=1)\n",
        "#     # p_S = pm.Normal('p_S', lambda R: np.where(R, .01, .4),\n",
        "#     #                 doc='Pr[S|R]')\n",
        "#     print (\"p_S\", p_S)\n",
        "    \n",
        "#     S = pm.Bernoulli('S', p_S, observed=df[\"positive\"].values)\n",
        "    \n",
        "#     p_G = pm.DensityDist('p_G', lambda S:\n",
        "#                     np.where(S, np.where(R, .99, .9), np.where(R, .8, 0.)))\n",
        "#     # p_G = pm.DensityDist('p_G', lambda S=S, R=R:\n",
        "#     #                 np.where(S, np.where(R, .99, .9), np.where(R, .8, 0.)),\n",
        "#     #                 doc='Pr[G|S,R]')\n",
        "    \n",
        "#     G = pm.Bernoulli('G', p_G, observed=df['death'].values) \n",
        "\n",
        "# display(causal_model)"
      ],
      "execution_count": 45,
      "outputs": []
    },
    {
      "cell_type": "markdown",
      "metadata": {
        "id": "fYAnuTS2xLGp",
        "colab_type": "text"
      },
      "source": [
        "\\begin{array}{rcl}\n",
        "            \\text{p_S} &\\sim & \\text{Normal}(\\mathit{mu}=0.0,~\\mathit{sigma}=1.0)\\\\\\text{R} &\\sim & \\text{Bernoulli}(\\mathit{p}=0.2)\\\\\\text{S} &\\sim & \\text{Bernoulli}(\\mathit{p}=\\text{p_S})\\\\\\text{G} &\\sim & \\text{Bernoulli}(\\mathit{p}=\\text{p_G})\n",
        "            \\end{array}"
      ]
    },
    {
      "cell_type": "code",
      "metadata": {
        "id": "ejeXnxRVGe8V",
        "colab_type": "code",
        "colab": {}
      },
      "source": [
        "# map_estimate = pm.find_MAP(model=causal_model)"
      ],
      "execution_count": 46,
      "outputs": []
    },
    {
      "cell_type": "code",
      "metadata": {
        "id": "CFG26dVqGOEz",
        "colab_type": "code",
        "colab": {}
      },
      "source": [
        "# m = pm.MCMC(causal_model)\n",
        "# m.sample(100000)"
      ],
      "execution_count": 47,
      "outputs": []
    },
    {
      "cell_type": "code",
      "metadata": {
        "id": "BabEZJpuF1La",
        "colab_type": "code",
        "colab": {}
      },
      "source": [
        "    # with model:\n",
        "    #     # instantiate sampler\n",
        "    #     step = pm.Slice()\n",
        "\n",
        "    #     # #### model fitting\n",
        "    #     map_estimate = pm.find_MAP(model=model) # finding the maximum a posteriori\n",
        "    #     print (\"map_estimate\",map_estimate)\n",
        "\n",
        "    #     # draw 5000 posterior samples\n",
        "    #     trace = pm.sample(5000, step=step, start=map_estimate)"
      ],
      "execution_count": 48,
      "outputs": []
    },
    {
      "cell_type": "code",
      "metadata": {
        "id": "csdiLGPvFOH-",
        "colab_type": "code",
        "colab": {}
      },
      "source": [
        "# causal_model, causal_trace = mcmc_sampling(causal_model)"
      ],
      "execution_count": 49,
      "outputs": []
    },
    {
      "cell_type": "code",
      "metadata": {
        "id": "6SgnSK9Fu9EA",
        "colab_type": "code",
        "colab": {}
      },
      "source": [
        "# pm.find_MAP(casual_model)"
      ],
      "execution_count": 50,
      "outputs": []
    },
    {
      "cell_type": "code",
      "metadata": {
        "id": "t4VIk5-UmxUk",
        "colab_type": "code",
        "colab": {}
      },
      "source": [
        "# https://arxiv.org/pdf/1910.14124.pdf"
      ],
      "execution_count": 51,
      "outputs": []
    },
    {
      "cell_type": "markdown",
      "metadata": {
        "id": "7ZzQcqUncSVg",
        "colab_type": "text"
      },
      "source": [
        "## example: causal model"
      ]
    },
    {
      "cell_type": "code",
      "metadata": {
        "id": "nSrg8QplRCNb",
        "colab_type": "code",
        "colab": {}
      },
      "source": [
        "pl.where(R, .01, .4)"
      ],
      "execution_count": null,
      "outputs": []
    },
    {
      "cell_type": "code",
      "metadata": {
        "id": "EQAejji_cUdo",
        "colab_type": "code",
        "colab": {}
      },
      "source": [
        "# based on: https://healthyalgorithms.com/2011/11/23/causal-modeling-in-python-bayesian-networks-in-pymc/\n",
        " \n",
        "G_obs = [1.]\n",
        "N = len(G_obs)\n",
        "print (pl.ones(N))\n",
        "with pm.Model() as model:\n",
        "    R = pm.Bernoulli('R', .2, observed=pl.ones(N))\n",
        "    print ('R', R)\n",
        "    p_S = pm.Normal('p_S', lambda R=R: pl.where(R, .01, .4), doc='Pr[S|R]')\n",
        "    S = pm.Bernoulli('S', p_S, observed=pl.ones(N))\n",
        "    \n",
        "    p_G = pm.DensityDist('p_G', lambda S=S, R=R:\n",
        "                    pl.where(S, pl.where(R, .99, .9), pl.where(R, .8, 0.)),\n",
        "                    doc='Pr[G|S,R]')\n",
        "    G = pm.Bernoulli('G', p_G, value=G_obs, observed=True)"
      ],
      "execution_count": null,
      "outputs": []
    },
    {
      "cell_type": "code",
      "metadata": {
        "id": "Qvx531xzcU-1",
        "colab_type": "code",
        "colab": {}
      },
      "source": [
        ""
      ],
      "execution_count": null,
      "outputs": []
    },
    {
      "cell_type": "markdown",
      "metadata": {
        "id": "h9sTZ39qeShm",
        "colab_type": "text"
      },
      "source": [
        "## example: coin"
      ]
    },
    {
      "cell_type": "code",
      "metadata": {
        "id": "dclQJpXVd-1U",
        "colab_type": "code",
        "colab": {}
      },
      "source": [
        "# https://qiita.com/bassa_hosi/items/6b2d68eb545c4ae65bea\n",
        "n_experiments = 10#コインの投げる回数\n",
        "theta_real = 0.35#実際のコインの偏り\n",
        "data = stats.bernoulli.rvs(p=theta_real,size=n_experiments)#サンプルのデータの配列を作成\n",
        "print(data)\n",
        "\n",
        "with pm.Model() as our_first_model:#記述するモデルを格納するもの\n",
        "    theta = pm.Beta('theta',alpha = 1,beta = 1)#α=β=1のベータ関数をthetaと定義\n",
        "    y = pm.Bernoulli('y',p = theta,observed=data)#n=1,p=θの二項分布にサンプルデータを与える\n",
        "    start = pm.find_MAP()#初期値を最大事後確率とする\n",
        "    step = pm.Metropolis()#サンプリング方法をメトロポリスにする\n",
        "    trace = pm.sample(1000,step=step,start = start,njobs=4)#回数1000，サンプリング方法をstep,初期値をstartという条件で4回推定する\n",
        "burnin = 100\n",
        "chain = trace[burnin:]#最初のburnin個のデータを抜く→これは最初の方のデータが当てにならないため\n",
        "pm.traceplot(chain,lines={'theta':theta_real})#θの正解値と推定した結果をプロット"
      ],
      "execution_count": null,
      "outputs": []
    },
    {
      "cell_type": "code",
      "metadata": {
        "id": "vdP5sAwtmhAA",
        "colab_type": "code",
        "colab": {}
      },
      "source": [
        ""
      ],
      "execution_count": null,
      "outputs": []
    }
  ]
}